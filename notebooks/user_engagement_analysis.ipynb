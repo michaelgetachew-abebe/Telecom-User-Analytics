{
 "cells": [
  {
   "cell_type": "markdown",
   "id": "55f8a342",
   "metadata": {},
   "source": [
    "# Task 2: User Engagement Analaysis"
   ]
  },
  {
   "cell_type": "code",
   "execution_count": null,
   "id": "b47d6bff",
   "metadata": {},
   "outputs": [],
   "source": []
  },
  {
   "cell_type": "code",
   "execution_count": 1,
   "id": "a3d24758",
   "metadata": {},
   "outputs": [],
   "source": [
    "import os\n",
    "import sys\n",
    "sys.path.append(os.path.abspath(os.path.join('../scripts')))\n",
    "import seaborn as sns\n",
    "import matplotlib.pyplot as plt\n",
    "%matplotlib inline\n",
    "\n",
    "import plotly.express as px"
   ]
  },
  {
   "cell_type": "code",
   "execution_count": 2,
   "id": "fda8b8f2",
   "metadata": {},
   "outputs": [],
   "source": [
    "import warnings\n",
    "warnings.filterwarnings('ignore')"
   ]
  },
  {
   "cell_type": "code",
   "execution_count": 3,
   "id": "034b857d",
   "metadata": {},
   "outputs": [],
   "source": [
    "import pandas as pd\n",
    "import numpy as np\n",
    "from assistant_functions import Assistants\n",
    "import plotter"
   ]
  },
  {
   "cell_type": "code",
   "execution_count": 4,
   "id": "c669053e",
   "metadata": {},
   "outputs": [
    {
     "name": "stdout",
     "output_type": "stream",
     "text": [
      "file read as csv\n"
     ]
    },
    {
     "data": {
      "text/html": [
       "<div>\n",
       "<style scoped>\n",
       "    .dataframe tbody tr th:only-of-type {\n",
       "        vertical-align: middle;\n",
       "    }\n",
       "\n",
       "    .dataframe tbody tr th {\n",
       "        vertical-align: top;\n",
       "    }\n",
       "\n",
       "    .dataframe thead th {\n",
       "        text-align: right;\n",
       "    }\n",
       "</style>\n",
       "<table border=\"1\" class=\"dataframe\">\n",
       "  <thead>\n",
       "    <tr style=\"text-align: right;\">\n",
       "      <th></th>\n",
       "      <th>bearer_id</th>\n",
       "      <th>start</th>\n",
       "      <th>start_ms</th>\n",
       "      <th>end</th>\n",
       "      <th>end_ms</th>\n",
       "      <th>dur._(ms)</th>\n",
       "      <th>imsi</th>\n",
       "      <th>msisdn/number</th>\n",
       "      <th>imei</th>\n",
       "      <th>last_location_name</th>\n",
       "      <th>...</th>\n",
       "      <th>total_ul_(bytes)</th>\n",
       "      <th>total_dl_(bytes)</th>\n",
       "      <th>social_media</th>\n",
       "      <th>google</th>\n",
       "      <th>email</th>\n",
       "      <th>youtube</th>\n",
       "      <th>netflix</th>\n",
       "      <th>gaming</th>\n",
       "      <th>other</th>\n",
       "      <th>total_data</th>\n",
       "    </tr>\n",
       "  </thead>\n",
       "  <tbody>\n",
       "    <tr>\n",
       "      <th>0</th>\n",
       "      <td>1.311448e+19</td>\n",
       "      <td>2019-04-04 12:01:00</td>\n",
       "      <td>770.0</td>\n",
       "      <td>2019-04-25 14:35:00</td>\n",
       "      <td>662.0</td>\n",
       "      <td>1823652.0</td>\n",
       "      <td>2.082014e+14</td>\n",
       "      <td>3.366496e+10</td>\n",
       "      <td>3.552121e+13</td>\n",
       "      <td>9.16456699548519E+015</td>\n",
       "      <td>...</td>\n",
       "      <td>36749741.0</td>\n",
       "      <td>308879636.0</td>\n",
       "      <td>1570185.0</td>\n",
       "      <td>2905912.0</td>\n",
       "      <td>3701304.0</td>\n",
       "      <td>18355943.0</td>\n",
       "      <td>17855187.0</td>\n",
       "      <td>292426453.0</td>\n",
       "      <td>180558843.0</td>\n",
       "      <td>345629377.0</td>\n",
       "    </tr>\n",
       "    <tr>\n",
       "      <th>1</th>\n",
       "      <td>1.311448e+19</td>\n",
       "      <td>2019-04-09 13:04:00</td>\n",
       "      <td>235.0</td>\n",
       "      <td>2019-04-25 08:15:00</td>\n",
       "      <td>606.0</td>\n",
       "      <td>1365104.0</td>\n",
       "      <td>2.082019e+14</td>\n",
       "      <td>3.368185e+10</td>\n",
       "      <td>3.579401e+13</td>\n",
       "      <td>L77566A</td>\n",
       "      <td>...</td>\n",
       "      <td>53800391.0</td>\n",
       "      <td>653384965.0</td>\n",
       "      <td>1933278.0</td>\n",
       "      <td>4414096.0</td>\n",
       "      <td>937385.0</td>\n",
       "      <td>39359124.0</td>\n",
       "      <td>35565545.0</td>\n",
       "      <td>609920783.0</td>\n",
       "      <td>541959383.0</td>\n",
       "      <td>707185356.0</td>\n",
       "    </tr>\n",
       "    <tr>\n",
       "      <th>2</th>\n",
       "      <td>1.311448e+19</td>\n",
       "      <td>2019-04-09 17:42:00</td>\n",
       "      <td>1.0</td>\n",
       "      <td>2019-04-25 11:58:00</td>\n",
       "      <td>652.0</td>\n",
       "      <td>1361762.0</td>\n",
       "      <td>2.082003e+14</td>\n",
       "      <td>3.376063e+10</td>\n",
       "      <td>3.528151e+13</td>\n",
       "      <td>D42335A</td>\n",
       "      <td>...</td>\n",
       "      <td>27883638.0</td>\n",
       "      <td>279807335.0</td>\n",
       "      <td>1726277.0</td>\n",
       "      <td>10229119.0</td>\n",
       "      <td>3363124.0</td>\n",
       "      <td>34425237.0</td>\n",
       "      <td>23751202.0</td>\n",
       "      <td>229980251.0</td>\n",
       "      <td>414908351.0</td>\n",
       "      <td>307690973.0</td>\n",
       "    </tr>\n",
       "    <tr>\n",
       "      <th>3</th>\n",
       "      <td>1.311448e+19</td>\n",
       "      <td>2019-04-10 00:31:00</td>\n",
       "      <td>486.0</td>\n",
       "      <td>2019-04-25 07:36:00</td>\n",
       "      <td>171.0</td>\n",
       "      <td>1321509.0</td>\n",
       "      <td>2.082014e+14</td>\n",
       "      <td>3.375034e+10</td>\n",
       "      <td>3.535661e+13</td>\n",
       "      <td>T21824A</td>\n",
       "      <td>...</td>\n",
       "      <td>43324218.0</td>\n",
       "      <td>846028530.0</td>\n",
       "      <td>657493.0</td>\n",
       "      <td>11811761.0</td>\n",
       "      <td>2070983.0</td>\n",
       "      <td>36534765.0</td>\n",
       "      <td>15092588.0</td>\n",
       "      <td>810387875.0</td>\n",
       "      <td>761837216.0</td>\n",
       "      <td>889352748.0</td>\n",
       "    </tr>\n",
       "    <tr>\n",
       "      <th>4</th>\n",
       "      <td>1.311448e+19</td>\n",
       "      <td>2019-04-12 20:10:00</td>\n",
       "      <td>565.0</td>\n",
       "      <td>2019-04-25 10:40:00</td>\n",
       "      <td>954.0</td>\n",
       "      <td>1089009.0</td>\n",
       "      <td>2.082014e+14</td>\n",
       "      <td>3.369980e+10</td>\n",
       "      <td>3.540701e+13</td>\n",
       "      <td>D88865A</td>\n",
       "      <td>...</td>\n",
       "      <td>38542814.0</td>\n",
       "      <td>569138589.0</td>\n",
       "      <td>912788.0</td>\n",
       "      <td>7748843.0</td>\n",
       "      <td>2110349.0</td>\n",
       "      <td>34222253.0</td>\n",
       "      <td>17539799.0</td>\n",
       "      <td>531237049.0</td>\n",
       "      <td>564619822.0</td>\n",
       "      <td>607681403.0</td>\n",
       "    </tr>\n",
       "  </tbody>\n",
       "</table>\n",
       "<p>5 rows × 53 columns</p>\n",
       "</div>"
      ],
      "text/plain": [
       "      bearer_id                start  start_ms                  end  end_ms  \\\n",
       "0  1.311448e+19  2019-04-04 12:01:00     770.0  2019-04-25 14:35:00   662.0   \n",
       "1  1.311448e+19  2019-04-09 13:04:00     235.0  2019-04-25 08:15:00   606.0   \n",
       "2  1.311448e+19  2019-04-09 17:42:00       1.0  2019-04-25 11:58:00   652.0   \n",
       "3  1.311448e+19  2019-04-10 00:31:00     486.0  2019-04-25 07:36:00   171.0   \n",
       "4  1.311448e+19  2019-04-12 20:10:00     565.0  2019-04-25 10:40:00   954.0   \n",
       "\n",
       "   dur._(ms)          imsi  msisdn/number          imei  \\\n",
       "0  1823652.0  2.082014e+14   3.366496e+10  3.552121e+13   \n",
       "1  1365104.0  2.082019e+14   3.368185e+10  3.579401e+13   \n",
       "2  1361762.0  2.082003e+14   3.376063e+10  3.528151e+13   \n",
       "3  1321509.0  2.082014e+14   3.375034e+10  3.535661e+13   \n",
       "4  1089009.0  2.082014e+14   3.369980e+10  3.540701e+13   \n",
       "\n",
       "      last_location_name  ...  total_ul_(bytes)  total_dl_(bytes)  \\\n",
       "0  9.16456699548519E+015  ...        36749741.0       308879636.0   \n",
       "1                L77566A  ...        53800391.0       653384965.0   \n",
       "2                D42335A  ...        27883638.0       279807335.0   \n",
       "3                T21824A  ...        43324218.0       846028530.0   \n",
       "4                D88865A  ...        38542814.0       569138589.0   \n",
       "\n",
       "   social_media      google      email     youtube     netflix       gaming  \\\n",
       "0     1570185.0   2905912.0  3701304.0  18355943.0  17855187.0  292426453.0   \n",
       "1     1933278.0   4414096.0   937385.0  39359124.0  35565545.0  609920783.0   \n",
       "2     1726277.0  10229119.0  3363124.0  34425237.0  23751202.0  229980251.0   \n",
       "3      657493.0  11811761.0  2070983.0  36534765.0  15092588.0  810387875.0   \n",
       "4      912788.0   7748843.0  2110349.0  34222253.0  17539799.0  531237049.0   \n",
       "\n",
       "         other   total_data  \n",
       "0  180558843.0  345629377.0  \n",
       "1  541959383.0  707185356.0  \n",
       "2  414908351.0  307690973.0  \n",
       "3  761837216.0  889352748.0  \n",
       "4  564619822.0  607681403.0  \n",
       "\n",
       "[5 rows x 53 columns]"
      ]
     },
     "execution_count": 4,
     "metadata": {},
     "output_type": "execute_result"
    }
   ],
   "source": [
    "#Import the cleaned dataframe into the current workspace\n",
    "assistant = Assistants()\n",
    "cleaned_csv_path = '../data/cleaned_data.csv'\n",
    "df = assistant.read_csv(csv_path = cleaned_csv_path)\n",
    "df.head()"
   ]
  },
  {
   "cell_type": "code",
   "execution_count": 5,
   "id": "09a0a4fb",
   "metadata": {},
   "outputs": [
    {
     "data": {
      "text/html": [
       "<div>\n",
       "<style scoped>\n",
       "    .dataframe tbody tr th:only-of-type {\n",
       "        vertical-align: middle;\n",
       "    }\n",
       "\n",
       "    .dataframe tbody tr th {\n",
       "        vertical-align: top;\n",
       "    }\n",
       "\n",
       "    .dataframe thead th {\n",
       "        text-align: right;\n",
       "    }\n",
       "</style>\n",
       "<table border=\"1\" class=\"dataframe\">\n",
       "  <thead>\n",
       "    <tr style=\"text-align: right;\">\n",
       "      <th></th>\n",
       "      <th>bearer_id</th>\n",
       "      <th>start</th>\n",
       "      <th>start_ms</th>\n",
       "      <th>end</th>\n",
       "      <th>end_ms</th>\n",
       "      <th>duration</th>\n",
       "      <th>imsi</th>\n",
       "      <th>msisdn</th>\n",
       "      <th>imei</th>\n",
       "      <th>last_location_name</th>\n",
       "      <th>...</th>\n",
       "      <th>total_ul_(bytes)</th>\n",
       "      <th>total_dl_(bytes)</th>\n",
       "      <th>social_media</th>\n",
       "      <th>google</th>\n",
       "      <th>email</th>\n",
       "      <th>youtube</th>\n",
       "      <th>netflix</th>\n",
       "      <th>gaming</th>\n",
       "      <th>other</th>\n",
       "      <th>total_data</th>\n",
       "    </tr>\n",
       "  </thead>\n",
       "  <tbody>\n",
       "    <tr>\n",
       "      <th>0</th>\n",
       "      <td>1.311448e+19</td>\n",
       "      <td>2019-04-04 12:01:00</td>\n",
       "      <td>770.0</td>\n",
       "      <td>2019-04-25 14:35:00</td>\n",
       "      <td>662.0</td>\n",
       "      <td>1823652.0</td>\n",
       "      <td>2.082014e+14</td>\n",
       "      <td>3.366496e+10</td>\n",
       "      <td>3.552121e+13</td>\n",
       "      <td>9.16456699548519E+015</td>\n",
       "      <td>...</td>\n",
       "      <td>36749741.0</td>\n",
       "      <td>308879636.0</td>\n",
       "      <td>1570185.0</td>\n",
       "      <td>2905912.0</td>\n",
       "      <td>3701304.0</td>\n",
       "      <td>18355943.0</td>\n",
       "      <td>17855187.0</td>\n",
       "      <td>292426453.0</td>\n",
       "      <td>180558843.0</td>\n",
       "      <td>345629377.0</td>\n",
       "    </tr>\n",
       "    <tr>\n",
       "      <th>1</th>\n",
       "      <td>1.311448e+19</td>\n",
       "      <td>2019-04-09 13:04:00</td>\n",
       "      <td>235.0</td>\n",
       "      <td>2019-04-25 08:15:00</td>\n",
       "      <td>606.0</td>\n",
       "      <td>1365104.0</td>\n",
       "      <td>2.082019e+14</td>\n",
       "      <td>3.368185e+10</td>\n",
       "      <td>3.579401e+13</td>\n",
       "      <td>L77566A</td>\n",
       "      <td>...</td>\n",
       "      <td>53800391.0</td>\n",
       "      <td>653384965.0</td>\n",
       "      <td>1933278.0</td>\n",
       "      <td>4414096.0</td>\n",
       "      <td>937385.0</td>\n",
       "      <td>39359124.0</td>\n",
       "      <td>35565545.0</td>\n",
       "      <td>609920783.0</td>\n",
       "      <td>541959383.0</td>\n",
       "      <td>707185356.0</td>\n",
       "    </tr>\n",
       "    <tr>\n",
       "      <th>2</th>\n",
       "      <td>1.311448e+19</td>\n",
       "      <td>2019-04-09 17:42:00</td>\n",
       "      <td>1.0</td>\n",
       "      <td>2019-04-25 11:58:00</td>\n",
       "      <td>652.0</td>\n",
       "      <td>1361762.0</td>\n",
       "      <td>2.082003e+14</td>\n",
       "      <td>3.376063e+10</td>\n",
       "      <td>3.528151e+13</td>\n",
       "      <td>D42335A</td>\n",
       "      <td>...</td>\n",
       "      <td>27883638.0</td>\n",
       "      <td>279807335.0</td>\n",
       "      <td>1726277.0</td>\n",
       "      <td>10229119.0</td>\n",
       "      <td>3363124.0</td>\n",
       "      <td>34425237.0</td>\n",
       "      <td>23751202.0</td>\n",
       "      <td>229980251.0</td>\n",
       "      <td>414908351.0</td>\n",
       "      <td>307690973.0</td>\n",
       "    </tr>\n",
       "    <tr>\n",
       "      <th>3</th>\n",
       "      <td>1.311448e+19</td>\n",
       "      <td>2019-04-10 00:31:00</td>\n",
       "      <td>486.0</td>\n",
       "      <td>2019-04-25 07:36:00</td>\n",
       "      <td>171.0</td>\n",
       "      <td>1321509.0</td>\n",
       "      <td>2.082014e+14</td>\n",
       "      <td>3.375034e+10</td>\n",
       "      <td>3.535661e+13</td>\n",
       "      <td>T21824A</td>\n",
       "      <td>...</td>\n",
       "      <td>43324218.0</td>\n",
       "      <td>846028530.0</td>\n",
       "      <td>657493.0</td>\n",
       "      <td>11811761.0</td>\n",
       "      <td>2070983.0</td>\n",
       "      <td>36534765.0</td>\n",
       "      <td>15092588.0</td>\n",
       "      <td>810387875.0</td>\n",
       "      <td>761837216.0</td>\n",
       "      <td>889352748.0</td>\n",
       "    </tr>\n",
       "    <tr>\n",
       "      <th>4</th>\n",
       "      <td>1.311448e+19</td>\n",
       "      <td>2019-04-12 20:10:00</td>\n",
       "      <td>565.0</td>\n",
       "      <td>2019-04-25 10:40:00</td>\n",
       "      <td>954.0</td>\n",
       "      <td>1089009.0</td>\n",
       "      <td>2.082014e+14</td>\n",
       "      <td>3.369980e+10</td>\n",
       "      <td>3.540701e+13</td>\n",
       "      <td>D88865A</td>\n",
       "      <td>...</td>\n",
       "      <td>38542814.0</td>\n",
       "      <td>569138589.0</td>\n",
       "      <td>912788.0</td>\n",
       "      <td>7748843.0</td>\n",
       "      <td>2110349.0</td>\n",
       "      <td>34222253.0</td>\n",
       "      <td>17539799.0</td>\n",
       "      <td>531237049.0</td>\n",
       "      <td>564619822.0</td>\n",
       "      <td>607681403.0</td>\n",
       "    </tr>\n",
       "  </tbody>\n",
       "</table>\n",
       "<p>5 rows × 53 columns</p>\n",
       "</div>"
      ],
      "text/plain": [
       "      bearer_id                start  start_ms                  end  end_ms  \\\n",
       "0  1.311448e+19  2019-04-04 12:01:00     770.0  2019-04-25 14:35:00   662.0   \n",
       "1  1.311448e+19  2019-04-09 13:04:00     235.0  2019-04-25 08:15:00   606.0   \n",
       "2  1.311448e+19  2019-04-09 17:42:00       1.0  2019-04-25 11:58:00   652.0   \n",
       "3  1.311448e+19  2019-04-10 00:31:00     486.0  2019-04-25 07:36:00   171.0   \n",
       "4  1.311448e+19  2019-04-12 20:10:00     565.0  2019-04-25 10:40:00   954.0   \n",
       "\n",
       "    duration          imsi        msisdn          imei     last_location_name  \\\n",
       "0  1823652.0  2.082014e+14  3.366496e+10  3.552121e+13  9.16456699548519E+015   \n",
       "1  1365104.0  2.082019e+14  3.368185e+10  3.579401e+13                L77566A   \n",
       "2  1361762.0  2.082003e+14  3.376063e+10  3.528151e+13                D42335A   \n",
       "3  1321509.0  2.082014e+14  3.375034e+10  3.535661e+13                T21824A   \n",
       "4  1089009.0  2.082014e+14  3.369980e+10  3.540701e+13                D88865A   \n",
       "\n",
       "   ...  total_ul_(bytes)  total_dl_(bytes)  social_media      google  \\\n",
       "0  ...        36749741.0       308879636.0     1570185.0   2905912.0   \n",
       "1  ...        53800391.0       653384965.0     1933278.0   4414096.0   \n",
       "2  ...        27883638.0       279807335.0     1726277.0  10229119.0   \n",
       "3  ...        43324218.0       846028530.0      657493.0  11811761.0   \n",
       "4  ...        38542814.0       569138589.0      912788.0   7748843.0   \n",
       "\n",
       "       email     youtube     netflix       gaming        other   total_data  \n",
       "0  3701304.0  18355943.0  17855187.0  292426453.0  180558843.0  345629377.0  \n",
       "1   937385.0  39359124.0  35565545.0  609920783.0  541959383.0  707185356.0  \n",
       "2  3363124.0  34425237.0  23751202.0  229980251.0  414908351.0  307690973.0  \n",
       "3  2070983.0  36534765.0  15092588.0  810387875.0  761837216.0  889352748.0  \n",
       "4  2110349.0  34222253.0  17539799.0  531237049.0  564619822.0  607681403.0  \n",
       "\n",
       "[5 rows x 53 columns]"
      ]
     },
     "execution_count": 5,
     "metadata": {},
     "output_type": "execute_result"
    }
   ],
   "source": [
    "#Rename msisdn/number and dur._(ms)\n",
    "df = df.rename(columns = {'msisdn/number':'msisdn','dur._(ms)':'duration'})\n",
    "#See the improvement\n",
    "df.head()"
   ]
  },
  {
   "cell_type": "code",
   "execution_count": 6,
   "id": "e6df6644",
   "metadata": {},
   "outputs": [
    {
     "name": "stdout",
     "output_type": "stream",
     "text": [
      "<class 'pandas.core.frame.DataFrame'>\n",
      "RangeIndex: 146891 entries, 0 to 146890\n",
      "Data columns (total 53 columns):\n",
      " #   Column                          Non-Null Count   Dtype  \n",
      "---  ------                          --------------   -----  \n",
      " 0   bearer_id                       146891 non-null  float64\n",
      " 1   start                           146891 non-null  object \n",
      " 2   start_ms                        146891 non-null  float64\n",
      " 3   end                             146891 non-null  object \n",
      " 4   end_ms                          146891 non-null  float64\n",
      " 5   duration                        146891 non-null  float64\n",
      " 6   imsi                            146891 non-null  float64\n",
      " 7   msisdn                          146891 non-null  float64\n",
      " 8   imei                            146891 non-null  float64\n",
      " 9   last_location_name              146891 non-null  object \n",
      " 10  avg_rtt_dl_(ms)                 146891 non-null  float64\n",
      " 11  avg_rtt_ul_(ms)                 146891 non-null  float64\n",
      " 12  avg_bearer_tp_dl_(kbps)         146891 non-null  float64\n",
      " 13  avg_bearer_tp_ul_(kbps)         146891 non-null  float64\n",
      " 14  dl_tp_<_50_kbps_(%)             146891 non-null  float64\n",
      " 15  50_kbps_<_dl_tp_<_250_kbps_(%)  146891 non-null  float64\n",
      " 16  250_kbps_<_dl_tp_<_1_mbps_(%)   146891 non-null  float64\n",
      " 17  dl_tp_>_1_mbps_(%)              146891 non-null  float64\n",
      " 18  ul_tp_<_10_kbps_(%)             146891 non-null  float64\n",
      " 19  10_kbps_<_ul_tp_<_50_kbps_(%)   146891 non-null  float64\n",
      " 20  50_kbps_<_ul_tp_<_300_kbps_(%)  146891 non-null  float64\n",
      " 21  ul_tp_>_300_kbps_(%)            146891 non-null  float64\n",
      " 22  activity_duration_dl_(ms)       146891 non-null  float64\n",
      " 23  activity_duration_ul_(ms)       146891 non-null  float64\n",
      " 24  dur._(ms).1                     146891 non-null  float64\n",
      " 25  handset_manufacturer            146891 non-null  object \n",
      " 26  handset_type                    146891 non-null  object \n",
      " 27  nb_of_sec_with_vol_dl_<_6250b   146891 non-null  float64\n",
      " 28  nb_of_sec_with_vol_ul_<_1250b   146891 non-null  float64\n",
      " 29  social_media_dl_(bytes)         146891 non-null  float64\n",
      " 30  social_media_ul_(bytes)         146891 non-null  float64\n",
      " 31  google_dl_(bytes)               146891 non-null  float64\n",
      " 32  google_ul_(bytes)               146891 non-null  float64\n",
      " 33  email_dl_(bytes)                146891 non-null  float64\n",
      " 34  email_ul_(bytes)                146891 non-null  float64\n",
      " 35  youtube_dl_(bytes)              146891 non-null  float64\n",
      " 36  youtube_ul_(bytes)              146891 non-null  float64\n",
      " 37  netflix_dl_(bytes)              146891 non-null  float64\n",
      " 38  netflix_ul_(bytes)              146891 non-null  float64\n",
      " 39  gaming_dl_(bytes)               146891 non-null  float64\n",
      " 40  gaming_ul_(bytes)               146891 non-null  float64\n",
      " 41  other_dl_(bytes)                146891 non-null  float64\n",
      " 42  other_ul_(bytes)                146891 non-null  float64\n",
      " 43  total_ul_(bytes)                146891 non-null  float64\n",
      " 44  total_dl_(bytes)                146891 non-null  float64\n",
      " 45  social_media                    146891 non-null  float64\n",
      " 46  google                          146891 non-null  float64\n",
      " 47  email                           146891 non-null  float64\n",
      " 48  youtube                         146891 non-null  float64\n",
      " 49  netflix                         146891 non-null  float64\n",
      " 50  gaming                          146891 non-null  float64\n",
      " 51  other                           146891 non-null  float64\n",
      " 52  total_data                      146891 non-null  float64\n",
      "dtypes: float64(48), object(5)\n",
      "memory usage: 59.4+ MB\n"
     ]
    }
   ],
   "source": [
    "#Generate general information about the dataframe using info method\n",
    "df.info()"
   ]
  },
  {
   "cell_type": "markdown",
   "id": "f9ed6423",
   "metadata": {},
   "source": [
    "User engagement analysis is tobe done per user so we need to aggregate the user data for the following metrices:               \n",
    "    1)session frequency                                                                                                         \n",
    "    2)the duration of the session                                                                                               \n",
    "    3)the session total traffic(UL AND DL)                        "
   ]
  },
  {
   "cell_type": "markdown",
   "id": "4ee41953",
   "metadata": {},
   "source": [
    "#### Session Frequency"
   ]
  },
  {
   "cell_type": "code",
   "execution_count": 7,
   "id": "43b5d493",
   "metadata": {},
   "outputs": [
    {
     "data": {
      "text/html": [
       "<div>\n",
       "<style scoped>\n",
       "    .dataframe tbody tr th:only-of-type {\n",
       "        vertical-align: middle;\n",
       "    }\n",
       "\n",
       "    .dataframe tbody tr th {\n",
       "        vertical-align: top;\n",
       "    }\n",
       "\n",
       "    .dataframe thead th {\n",
       "        text-align: right;\n",
       "    }\n",
       "</style>\n",
       "<table border=\"1\" class=\"dataframe\">\n",
       "  <thead>\n",
       "    <tr style=\"text-align: right;\">\n",
       "      <th></th>\n",
       "      <th>bearer_id</th>\n",
       "    </tr>\n",
       "    <tr>\n",
       "      <th>msisdn</th>\n",
       "      <th></th>\n",
       "    </tr>\n",
       "  </thead>\n",
       "  <tbody>\n",
       "    <tr>\n",
       "      <th>3.362632e+10</th>\n",
       "      <td>18</td>\n",
       "    </tr>\n",
       "    <tr>\n",
       "      <th>3.361489e+10</th>\n",
       "      <td>17</td>\n",
       "    </tr>\n",
       "    <tr>\n",
       "      <th>3.362578e+10</th>\n",
       "      <td>17</td>\n",
       "    </tr>\n",
       "    <tr>\n",
       "      <th>3.365973e+10</th>\n",
       "      <td>16</td>\n",
       "    </tr>\n",
       "    <tr>\n",
       "      <th>3.367588e+10</th>\n",
       "      <td>15</td>\n",
       "    </tr>\n",
       "  </tbody>\n",
       "</table>\n",
       "</div>"
      ],
      "text/plain": [
       "              bearer_id\n",
       "msisdn                 \n",
       "3.362632e+10         18\n",
       "3.361489e+10         17\n",
       "3.362578e+10         17\n",
       "3.365973e+10         16\n",
       "3.367588e+10         15"
      ]
     },
     "execution_count": 7,
     "metadata": {},
     "output_type": "execute_result"
    }
   ],
   "source": [
    "aggregate_by_session_count = df.groupby('msisdn').agg({'bearer_id':'count'})\n",
    "session_frequency_metrics = aggregate_by_session_count.sort_values(by = ['bearer_id'], ascending = False)\n",
    "session_frequency_metrics.head()"
   ]
  },
  {
   "cell_type": "markdown",
   "id": "59454b67",
   "metadata": {},
   "source": [
    "#### Total Duration of Customers"
   ]
  },
  {
   "cell_type": "code",
   "execution_count": 8,
   "id": "28734454",
   "metadata": {},
   "outputs": [
    {
     "data": {
      "text/html": [
       "<div>\n",
       "<style scoped>\n",
       "    .dataframe tbody tr th:only-of-type {\n",
       "        vertical-align: middle;\n",
       "    }\n",
       "\n",
       "    .dataframe tbody tr th {\n",
       "        vertical-align: top;\n",
       "    }\n",
       "\n",
       "    .dataframe thead th {\n",
       "        text-align: right;\n",
       "    }\n",
       "</style>\n",
       "<table border=\"1\" class=\"dataframe\">\n",
       "  <thead>\n",
       "    <tr style=\"text-align: right;\">\n",
       "      <th></th>\n",
       "      <th>duration</th>\n",
       "    </tr>\n",
       "    <tr>\n",
       "      <th>msisdn</th>\n",
       "      <th></th>\n",
       "    </tr>\n",
       "  </thead>\n",
       "  <tbody>\n",
       "    <tr>\n",
       "      <th>3.362578e+10</th>\n",
       "      <td>18553754.0</td>\n",
       "    </tr>\n",
       "    <tr>\n",
       "      <th>3.361489e+10</th>\n",
       "      <td>9966898.0</td>\n",
       "    </tr>\n",
       "    <tr>\n",
       "      <th>3.376054e+10</th>\n",
       "      <td>9279434.0</td>\n",
       "    </tr>\n",
       "    <tr>\n",
       "      <th>3.362632e+10</th>\n",
       "      <td>8791927.0</td>\n",
       "    </tr>\n",
       "    <tr>\n",
       "      <th>3.366716e+10</th>\n",
       "      <td>8744914.0</td>\n",
       "    </tr>\n",
       "  </tbody>\n",
       "</table>\n",
       "</div>"
      ],
      "text/plain": [
       "                duration\n",
       "msisdn                  \n",
       "3.362578e+10  18553754.0\n",
       "3.361489e+10   9966898.0\n",
       "3.376054e+10   9279434.0\n",
       "3.362632e+10   8791927.0\n",
       "3.366716e+10   8744914.0"
      ]
     },
     "execution_count": 8,
     "metadata": {},
     "output_type": "execute_result"
    }
   ],
   "source": [
    "aggregate_by_duration = df.groupby('msisdn').agg({'duration':'sum'})\n",
    "duration_metrics = aggregate_by_duration.sort_values(by = ['duration'], ascending = False)\n",
    "duration_metrics.head()"
   ]
  },
  {
   "cell_type": "markdown",
   "id": "549ffddd",
   "metadata": {},
   "source": [
    "#### Sessions total traffic download"
   ]
  },
  {
   "cell_type": "code",
   "execution_count": 9,
   "id": "a131be73",
   "metadata": {},
   "outputs": [
    {
     "data": {
      "text/html": [
       "<div>\n",
       "<style scoped>\n",
       "    .dataframe tbody tr th:only-of-type {\n",
       "        vertical-align: middle;\n",
       "    }\n",
       "\n",
       "    .dataframe tbody tr th {\n",
       "        vertical-align: top;\n",
       "    }\n",
       "\n",
       "    .dataframe thead th {\n",
       "        text-align: right;\n",
       "    }\n",
       "</style>\n",
       "<table border=\"1\" class=\"dataframe\">\n",
       "  <thead>\n",
       "    <tr style=\"text-align: right;\">\n",
       "      <th></th>\n",
       "      <th>total_data</th>\n",
       "    </tr>\n",
       "    <tr>\n",
       "      <th>msisdn</th>\n",
       "      <th></th>\n",
       "    </tr>\n",
       "  </thead>\n",
       "  <tbody>\n",
       "    <tr>\n",
       "      <th>3.361489e+10</th>\n",
       "      <td>8.846226e+09</td>\n",
       "    </tr>\n",
       "    <tr>\n",
       "      <th>3.376054e+10</th>\n",
       "      <td>8.514774e+09</td>\n",
       "    </tr>\n",
       "    <tr>\n",
       "      <th>3.362578e+10</th>\n",
       "      <td>8.499621e+09</td>\n",
       "    </tr>\n",
       "    <tr>\n",
       "      <th>3.362632e+10</th>\n",
       "      <td>7.971167e+09</td>\n",
       "    </tr>\n",
       "    <tr>\n",
       "      <th>3.367588e+10</th>\n",
       "      <td>7.891111e+09</td>\n",
       "    </tr>\n",
       "  </tbody>\n",
       "</table>\n",
       "</div>"
      ],
      "text/plain": [
       "                total_data\n",
       "msisdn                    \n",
       "3.361489e+10  8.846226e+09\n",
       "3.376054e+10  8.514774e+09\n",
       "3.362578e+10  8.499621e+09\n",
       "3.362632e+10  7.971167e+09\n",
       "3.367588e+10  7.891111e+09"
      ]
     },
     "execution_count": 9,
     "metadata": {},
     "output_type": "execute_result"
    }
   ],
   "source": [
    "aggregate_by_traffic = df.groupby('msisdn').agg({'total_data':'sum'})\n",
    "total_traffic_metrics = aggregate_by_traffic.sort_values(by = ['total_data'], ascending = False)\n",
    "total_traffic_metrics.head()"
   ]
  },
  {
   "cell_type": "markdown",
   "id": "38016eb9",
   "metadata": {},
   "source": [
    "Therefore we can now make up enaggement dataframe which is composed of session frequency, session duration and session total traffic..."
   ]
  },
  {
   "cell_type": "code",
   "execution_count": 10,
   "id": "65a94f01",
   "metadata": {},
   "outputs": [
    {
     "data": {
      "text/html": [
       "<div>\n",
       "<style scoped>\n",
       "    .dataframe tbody tr th:only-of-type {\n",
       "        vertical-align: middle;\n",
       "    }\n",
       "\n",
       "    .dataframe tbody tr th {\n",
       "        vertical-align: top;\n",
       "    }\n",
       "\n",
       "    .dataframe thead th {\n",
       "        text-align: right;\n",
       "    }\n",
       "</style>\n",
       "<table border=\"1\" class=\"dataframe\">\n",
       "  <thead>\n",
       "    <tr style=\"text-align: right;\">\n",
       "      <th></th>\n",
       "      <th>bearer_id</th>\n",
       "      <th>duration</th>\n",
       "      <th>total_data</th>\n",
       "    </tr>\n",
       "    <tr>\n",
       "      <th>msisdn</th>\n",
       "      <th></th>\n",
       "      <th></th>\n",
       "      <th></th>\n",
       "    </tr>\n",
       "  </thead>\n",
       "  <tbody>\n",
       "    <tr>\n",
       "      <th>3.362632e+10</th>\n",
       "      <td>18</td>\n",
       "      <td>8791927.0</td>\n",
       "      <td>7.971167e+09</td>\n",
       "    </tr>\n",
       "    <tr>\n",
       "      <th>3.361489e+10</th>\n",
       "      <td>17</td>\n",
       "      <td>9966898.0</td>\n",
       "      <td>8.846226e+09</td>\n",
       "    </tr>\n",
       "    <tr>\n",
       "      <th>3.362578e+10</th>\n",
       "      <td>17</td>\n",
       "      <td>18553754.0</td>\n",
       "      <td>8.499621e+09</td>\n",
       "    </tr>\n",
       "    <tr>\n",
       "      <th>3.365973e+10</th>\n",
       "      <td>16</td>\n",
       "      <td>4035428.0</td>\n",
       "      <td>7.705863e+09</td>\n",
       "    </tr>\n",
       "    <tr>\n",
       "      <th>3.367588e+10</th>\n",
       "      <td>15</td>\n",
       "      <td>4865947.0</td>\n",
       "      <td>7.891111e+09</td>\n",
       "    </tr>\n",
       "    <tr>\n",
       "      <th>3.376054e+10</th>\n",
       "      <td>15</td>\n",
       "      <td>9279434.0</td>\n",
       "      <td>8.514774e+09</td>\n",
       "    </tr>\n",
       "    <tr>\n",
       "      <th>3.366716e+10</th>\n",
       "      <td>13</td>\n",
       "      <td>8744914.0</td>\n",
       "      <td>5.618394e+09</td>\n",
       "    </tr>\n",
       "    <tr>\n",
       "      <th>3.360313e+10</th>\n",
       "      <td>12</td>\n",
       "      <td>6287761.0</td>\n",
       "      <td>4.976195e+09</td>\n",
       "    </tr>\n",
       "    <tr>\n",
       "      <th>3.376041e+10</th>\n",
       "      <td>12</td>\n",
       "      <td>5321667.0</td>\n",
       "      <td>7.132371e+09</td>\n",
       "    </tr>\n",
       "    <tr>\n",
       "      <th>3.362708e+10</th>\n",
       "      <td>12</td>\n",
       "      <td>4703516.0</td>\n",
       "      <td>5.754731e+09</td>\n",
       "    </tr>\n",
       "  </tbody>\n",
       "</table>\n",
       "</div>"
      ],
      "text/plain": [
       "              bearer_id    duration    total_data\n",
       "msisdn                                           \n",
       "3.362632e+10         18   8791927.0  7.971167e+09\n",
       "3.361489e+10         17   9966898.0  8.846226e+09\n",
       "3.362578e+10         17  18553754.0  8.499621e+09\n",
       "3.365973e+10         16   4035428.0  7.705863e+09\n",
       "3.367588e+10         15   4865947.0  7.891111e+09\n",
       "3.376054e+10         15   9279434.0  8.514774e+09\n",
       "3.366716e+10         13   8744914.0  5.618394e+09\n",
       "3.360313e+10         12   6287761.0  4.976195e+09\n",
       "3.376041e+10         12   5321667.0  7.132371e+09\n",
       "3.362708e+10         12   4703516.0  5.754731e+09"
      ]
     },
     "execution_count": 10,
     "metadata": {},
     "output_type": "execute_result"
    }
   ],
   "source": [
    "users_engagement_metrics = df.groupby('msisdn').agg({'bearer_id':'count', 'duration':'sum','total_data':'sum'})\n",
    "users_engagement_metrics = users_engagement_metrics.sort_values(by = ['bearer_id'], ascending = False)\n",
    "users_engagement_metrics.head(10)"
   ]
  },
  {
   "cell_type": "code",
   "execution_count": 11,
   "id": "d34e31ba",
   "metadata": {},
   "outputs": [
    {
     "data": {
      "image/png": "[encoded data removed]",
      "text/plain": [
       "<Figure size 864x504 with 1 Axes>"
      ]
     },
     "metadata": {
      "needs_background": "light"
     },
     "output_type": "display_data"
    },
    {
     "data": {
      "image/png": "[encoded data removed]",
      "text/plain": [
       "<Figure size 864x504 with 1 Axes>"
      ]
     },
     "metadata": {
      "needs_background": "light"
     },
     "output_type": "display_data"
    },
    {
     "data": {
      "image/png": "[encoded data removed]",
      "text/plain": [
       "<Figure size 864x504 with 1 Axes>"
      ]
     },
     "metadata": {
      "needs_background": "light"
     },
     "output_type": "display_data"
    }
   ],
   "source": [
    "# Outlier detection using plot box from plotter functions...\n",
    "col_list = ['bearer_id','duration','total_data']\n",
    "for col in col_list:\n",
    "    title = f'{col} outlier detection using plot_box'\n",
    "    plotter.plot_box(users_engagement_metrics, col, title)"
   ]
  },
  {
   "cell_type": "code",
   "execution_count": 13,
   "id": "f387bc27",
   "metadata": {},
   "outputs": [
    {
     "data": {
      "text/html": [
       "<div>\n",
       "<style scoped>\n",
       "    .dataframe tbody tr th:only-of-type {\n",
       "        vertical-align: middle;\n",
       "    }\n",
       "\n",
       "    .dataframe tbody tr th {\n",
       "        vertical-align: top;\n",
       "    }\n",
       "\n",
       "    .dataframe thead th {\n",
       "        text-align: right;\n",
       "    }\n",
       "</style>\n",
       "<table border=\"1\" class=\"dataframe\">\n",
       "  <thead>\n",
       "    <tr style=\"text-align: right;\">\n",
       "      <th></th>\n",
       "      <th>bearer_id</th>\n",
       "      <th>duration</th>\n",
       "      <th>total_data</th>\n",
       "    </tr>\n",
       "    <tr>\n",
       "      <th>msisdn</th>\n",
       "      <th></th>\n",
       "      <th></th>\n",
       "      <th></th>\n",
       "    </tr>\n",
       "  </thead>\n",
       "  <tbody>\n",
       "    <tr>\n",
       "      <th>3.362632e+10</th>\n",
       "      <td>3.5</td>\n",
       "      <td>322904.0</td>\n",
       "      <td>1.604259e+09</td>\n",
       "    </tr>\n",
       "    <tr>\n",
       "      <th>3.361489e+10</th>\n",
       "      <td>3.5</td>\n",
       "      <td>322904.0</td>\n",
       "      <td>1.604259e+09</td>\n",
       "    </tr>\n",
       "    <tr>\n",
       "      <th>3.362578e+10</th>\n",
       "      <td>3.5</td>\n",
       "      <td>322904.0</td>\n",
       "      <td>1.604259e+09</td>\n",
       "    </tr>\n",
       "    <tr>\n",
       "      <th>3.365973e+10</th>\n",
       "      <td>3.5</td>\n",
       "      <td>322904.0</td>\n",
       "      <td>1.604259e+09</td>\n",
       "    </tr>\n",
       "    <tr>\n",
       "      <th>3.367588e+10</th>\n",
       "      <td>3.5</td>\n",
       "      <td>322904.0</td>\n",
       "      <td>1.604259e+09</td>\n",
       "    </tr>\n",
       "  </tbody>\n",
       "</table>\n",
       "</div>"
      ],
      "text/plain": [
       "              bearer_id  duration    total_data\n",
       "msisdn                                         \n",
       "3.362632e+10        3.5  322904.0  1.604259e+09\n",
       "3.361489e+10        3.5  322904.0  1.604259e+09\n",
       "3.362578e+10        3.5  322904.0  1.604259e+09\n",
       "3.365973e+10        3.5  322904.0  1.604259e+09\n",
       "3.367588e+10        3.5  322904.0  1.604259e+09"
      ]
     },
     "execution_count": 13,
     "metadata": {},
     "output_type": "execute_result"
    }
   ],
   "source": [
    "#The plots above clearly show that the datdframe needs outlier handling steps...\n",
    "users_engagement_metrics = assistant.handle_outliers(users_engagement_metrics, 'bearer_id')\n",
    "users_engagement_metrics = assistant.handle_outliers(users_engagement_metrics, 'duration')\n",
    "users_engagement_metrics = assistant.handle_outliers(users_engagement_metrics, 'total_data')\n",
    "users_engagement_metrics.head()"
   ]
  },
  {
   "cell_type": "code",
   "execution_count": 14,
   "id": "6bb310ea",
   "metadata": {},
   "outputs": [
    {
     "data": {
      "text/html": [
       "<div>\n",
       "<style scoped>\n",
       "    .dataframe tbody tr th:only-of-type {\n",
       "        vertical-align: middle;\n",
       "    }\n",
       "\n",
       "    .dataframe tbody tr th {\n",
       "        vertical-align: top;\n",
       "    }\n",
       "\n",
       "    .dataframe thead th {\n",
       "        text-align: right;\n",
       "    }\n",
       "</style>\n",
       "<table border=\"1\" class=\"dataframe\">\n",
       "  <thead>\n",
       "    <tr style=\"text-align: right;\">\n",
       "      <th></th>\n",
       "      <th>bearer_id</th>\n",
       "      <th>duration</th>\n",
       "      <th>total_data</th>\n",
       "    </tr>\n",
       "  </thead>\n",
       "  <tbody>\n",
       "    <tr>\n",
       "      <th>count</th>\n",
       "      <td>105719.000000</td>\n",
       "      <td>105719.000000</td>\n",
       "      <td>1.057190e+05</td>\n",
       "    </tr>\n",
       "    <tr>\n",
       "      <th>mean</th>\n",
       "      <td>1.356634</td>\n",
       "      <td>130349.580378</td>\n",
       "      <td>6.622830e+08</td>\n",
       "    </tr>\n",
       "    <tr>\n",
       "      <th>std</th>\n",
       "      <td>0.650007</td>\n",
       "      <td>87018.309018</td>\n",
       "      <td>3.947117e+08</td>\n",
       "    </tr>\n",
       "    <tr>\n",
       "      <th>min</th>\n",
       "      <td>1.000000</td>\n",
       "      <td>7142.000000</td>\n",
       "      <td>3.324901e+07</td>\n",
       "    </tr>\n",
       "    <tr>\n",
       "      <th>25%</th>\n",
       "      <td>1.000000</td>\n",
       "      <td>72729.000000</td>\n",
       "      <td>3.579501e+08</td>\n",
       "    </tr>\n",
       "    <tr>\n",
       "      <th>50%</th>\n",
       "      <td>1.000000</td>\n",
       "      <td>103111.000000</td>\n",
       "      <td>6.169335e+08</td>\n",
       "    </tr>\n",
       "    <tr>\n",
       "      <th>75%</th>\n",
       "      <td>2.000000</td>\n",
       "      <td>172799.000000</td>\n",
       "      <td>8.564738e+08</td>\n",
       "    </tr>\n",
       "    <tr>\n",
       "      <th>max</th>\n",
       "      <td>3.500000</td>\n",
       "      <td>322904.000000</td>\n",
       "      <td>1.604259e+09</td>\n",
       "    </tr>\n",
       "  </tbody>\n",
       "</table>\n",
       "</div>"
      ],
      "text/plain": [
       "           bearer_id       duration    total_data\n",
       "count  105719.000000  105719.000000  1.057190e+05\n",
       "mean        1.356634  130349.580378  6.622830e+08\n",
       "std         0.650007   87018.309018  3.947117e+08\n",
       "min         1.000000    7142.000000  3.324901e+07\n",
       "25%         1.000000   72729.000000  3.579501e+08\n",
       "50%         1.000000  103111.000000  6.169335e+08\n",
       "75%         2.000000  172799.000000  8.564738e+08\n",
       "max         3.500000  322904.000000  1.604259e+09"
      ]
     },
     "execution_count": 14,
     "metadata": {},
     "output_type": "execute_result"
    }
   ],
   "source": [
    "users_engagement_metrics.describe()"
   ]
  },
  {
   "cell_type": "code",
   "execution_count": 15,
   "id": "e873e433",
   "metadata": {},
   "outputs": [
    {
     "data": {
      "image/png": "[encoded data removed]",
      "text/plain": [
       "<Figure size 864x504 with 1 Axes>"
      ]
     },
     "metadata": {
      "needs_background": "light"
     },
     "output_type": "display_data"
    },
    {
     "data": {
      "image/png": "[encoded data removed]",
      "text/plain": [
       "<Figure size 864x504 with 1 Axes>"
      ]
     },
     "metadata": {
      "needs_background": "light"
     },
     "output_type": "display_data"
    },
    {
     "data": {
      "image/png": "[encoded data removed]",
      "text/plain": [
       "<Figure size 864x504 with 1 Axes>"
      ]
     },
     "metadata": {
      "needs_background": "light"
     },
     "output_type": "display_data"
    }
   ],
   "source": [
    "#Rechack for outliers using plot box....\n",
    "col_list = ['bearer_id','duration','total_data']\n",
    "for col in col_list:\n",
    "    title = f'{col} outlier detection using plot_box'\n",
    "    plotter.plot_box(users_engagement_metrics, col, title)"
   ]
  },
  {
   "cell_type": "markdown",
   "id": "db5243ac",
   "metadata": {},
   "source": [
    "### Normalization"
   ]
  },
  {
   "cell_type": "code",
   "execution_count": 16,
   "id": "b578222c",
   "metadata": {},
   "outputs": [],
   "source": [
    "from sklearn.preprocessing import Normalizer, MinMaxScaler\n",
    "from sklearn.cluster import KMeans"
   ]
  },
  {
   "cell_type": "code",
   "execution_count": 20,
   "id": "da25239b",
   "metadata": {},
   "outputs": [
    {
     "data": {
      "text/html": [
       "<div>\n",
       "<style scoped>\n",
       "    .dataframe tbody tr th:only-of-type {\n",
       "        vertical-align: middle;\n",
       "    }\n",
       "\n",
       "    .dataframe tbody tr th {\n",
       "        vertical-align: top;\n",
       "    }\n",
       "\n",
       "    .dataframe thead th {\n",
       "        text-align: right;\n",
       "    }\n",
       "</style>\n",
       "<table border=\"1\" class=\"dataframe\">\n",
       "  <thead>\n",
       "    <tr style=\"text-align: right;\">\n",
       "      <th></th>\n",
       "      <th>bearer_id</th>\n",
       "      <th>duration</th>\n",
       "      <th>total_data</th>\n",
       "    </tr>\n",
       "  </thead>\n",
       "  <tbody>\n",
       "    <tr>\n",
       "      <th>count</th>\n",
       "      <td>1.057190e+05</td>\n",
       "      <td>105719.000000</td>\n",
       "      <td>1.057190e+05</td>\n",
       "    </tr>\n",
       "    <tr>\n",
       "      <th>mean</th>\n",
       "      <td>2.837243e-09</td>\n",
       "      <td>0.000281</td>\n",
       "      <td>9.999999e-01</td>\n",
       "    </tr>\n",
       "    <tr>\n",
       "      <th>std</th>\n",
       "      <td>2.272614e-09</td>\n",
       "      <td>0.000320</td>\n",
       "      <td>3.560448e-07</td>\n",
       "    </tr>\n",
       "    <tr>\n",
       "      <th>min</th>\n",
       "      <td>1.051789e-09</td>\n",
       "      <td>0.000008</td>\n",
       "      <td>9.999808e-01</td>\n",
       "    </tr>\n",
       "    <tr>\n",
       "      <th>25%</th>\n",
       "      <td>1.494117e-09</td>\n",
       "      <td>0.000112</td>\n",
       "      <td>9.999999e-01</td>\n",
       "    </tr>\n",
       "    <tr>\n",
       "      <th>50%</th>\n",
       "      <td>2.052769e-09</td>\n",
       "      <td>0.000195</td>\n",
       "      <td>1.000000e+00</td>\n",
       "    </tr>\n",
       "    <tr>\n",
       "      <th>75%</th>\n",
       "      <td>3.142538e-09</td>\n",
       "      <td>0.000319</td>\n",
       "      <td>1.000000e+00</td>\n",
       "    </tr>\n",
       "    <tr>\n",
       "      <th>max</th>\n",
       "      <td>3.007606e-08</td>\n",
       "      <td>0.006194</td>\n",
       "      <td>1.000000e+00</td>\n",
       "    </tr>\n",
       "  </tbody>\n",
       "</table>\n",
       "</div>"
      ],
      "text/plain": [
       "          bearer_id       duration    total_data\n",
       "count  1.057190e+05  105719.000000  1.057190e+05\n",
       "mean   2.837243e-09       0.000281  9.999999e-01\n",
       "std    2.272614e-09       0.000320  3.560448e-07\n",
       "min    1.051789e-09       0.000008  9.999808e-01\n",
       "25%    1.494117e-09       0.000112  9.999999e-01\n",
       "50%    2.052769e-09       0.000195  1.000000e+00\n",
       "75%    3.142538e-09       0.000319  1.000000e+00\n",
       "max    3.007606e-08       0.006194  1.000000e+00"
      ]
     },
     "execution_count": 20,
     "metadata": {},
     "output_type": "execute_result"
    }
   ],
   "source": [
    "normalized_user_engagement_metrics = assistant.normalizer(users_engagement_metrics, ['bearer_id', 'duration', 'total_data'])\n",
    "normalized_user_engagement_metrics.describe()"
   ]
  },
  {
   "cell_type": "code",
   "execution_count": 21,
   "id": "371ecb75",
   "metadata": {},
   "outputs": [
    {
     "data": {
      "text/plain": [
       "<Figure size 648x504 with 0 Axes>"
      ]
     },
     "metadata": {},
     "output_type": "display_data"
    },
    {
     "data": {
      "image/png": "[encoded data removed]",
      "text/plain": [
       "<Figure size 1008x504 with 1 Axes>"
      ]
     },
     "metadata": {
      "needs_background": "light"
     },
     "output_type": "display_data"
    },
    {
     "data": {
      "text/plain": [
       "<Figure size 648x504 with 0 Axes>"
      ]
     },
     "metadata": {},
     "output_type": "display_data"
    },
    {
     "data": {
      "image/png": "[encoded data removed]",
      "text/plain": [
       "<Figure size 1008x504 with 1 Axes>"
      ]
     },
     "metadata": {
      "needs_background": "light"
     },
     "output_type": "display_data"
    },
    {
     "data": {
      "text/plain": [
       "<Figure size 648x504 with 0 Axes>"
      ]
     },
     "metadata": {},
     "output_type": "display_data"
    },
    {
     "data": {
      "image/png": "[encoded data removed]",
      "text/plain": [
       "<Figure size 1008x504 with 1 Axes>"
      ]
     },
     "metadata": {
      "needs_background": "light"
     },
     "output_type": "display_data"
    }
   ],
   "source": [
    "#Plot the distribution of each of the data ...\n",
    "col_list = ['bearer_id','duration','total_data']\n",
    "for col in col_list:\n",
    "    plotter.plot_hist(normalized_user_engagement_metrics, col, 'green')"
   ]
  },
  {
   "cell_type": "code",
   "execution_count": 22,
   "id": "d680ec62",
   "metadata": {},
   "outputs": [
    {
     "name": "stdout",
     "output_type": "stream",
     "text": [
      "<class 'pandas.core.frame.DataFrame'>\n",
      "RangeIndex: 105719 entries, 0 to 105718\n",
      "Data columns (total 3 columns):\n",
      " #   Column      Non-Null Count   Dtype  \n",
      "---  ------      --------------   -----  \n",
      " 0   bearer_id   105719 non-null  float64\n",
      " 1   duration    105719 non-null  float64\n",
      " 2   total_data  105719 non-null  float64\n",
      "dtypes: float64(3)\n",
      "memory usage: 2.4 MB\n"
     ]
    }
   ],
   "source": [
    "normalized_user_engagement_metrics.info()"
   ]
  },
  {
   "cell_type": "markdown",
   "id": "692e88bc",
   "metadata": {},
   "source": [
    "#### Aggregate the above metrics per customer id (MSISDN) and report the top 10 customers per engagement metric "
   ]
  },
  {
   "cell_type": "code",
   "execution_count": 27,
   "id": "7fd99e45",
   "metadata": {},
   "outputs": [
    {
     "data": {
      "image/png": "[encoded data removed]",
      "text/plain": [
       "<Figure size 720x504 with 1 Axes>"
      ]
     },
     "metadata": {
      "needs_background": "light"
     },
     "output_type": "display_data"
    },
    {
     "data": {
      "image/png": "[encoded data removed]",
      "text/plain": [
       "<Figure size 720x504 with 1 Axes>"
      ]
     },
     "metadata": {
      "needs_background": "light"
     },
     "output_type": "display_data"
    },
    {
     "data": {
      "image/png": "[encoded data removed]",
      "text/plain": [
       "<Figure size 720x504 with 1 Axes>"
      ]
     },
     "metadata": {
      "needs_background": "light"
     },
     "output_type": "display_data"
    }
   ],
   "source": [
    "# TOP 10 CUSTOMERS AS PER THE ENGAGEMENT METRIC\n",
    "# The plots below show the scores of the top 10 customers a function of the columns in the \"users_engagement_metrics\" which are\n",
    "   #1) bearer_id -- stands for an aggregated session frequency of a user identified by msisdn(cutomer id)\n",
    "   #2) duraton -- stands for the aggregated session duration of user identified by msisdn(customer id)\n",
    "   #3) total_data -- stands for the aggregated total data exchanged by a user identified by msisdn(customer id)\n",
    "    \n",
    "app_cols = ['social_media', 'email', 'google']\n",
    "\n",
    "for app in app_cols:\n",
    "    \n",
    "    app_agg = df.groupby('msisdn').agg({app : 'sum'})\n",
    "    top_app_users = app_agg.sort_values(by=[app], ascending=False).head(10)\n",
    "    ax = top_app_users.plot.bar(\n",
    "        y=[app], \n",
    "        title=f\"Top 10 customers that are engaged to {app}\",\n",
    "        figsize=(10,7))\n",
    "    ax.set_xticklabels(ax.get_xticklabels(), rotation=20, ha=\"right\")\n",
    "    plt.show()"
   ]
  },
  {
   "cell_type": "markdown",
   "id": "e44f90eb",
   "metadata": {},
   "source": [
    "#### Normalize each engagement metric and run a k-means (k=3) to classify customers in three groups of engagement."
   ]
  },
  {
   "cell_type": "code",
   "execution_count": null,
   "id": "2208bd5f",
   "metadata": {},
   "outputs": [],
   "source": [
    "# Therefore in this section I will be clutering the data using the most widely user unsupervised learning mechanism called the K-Means clustering using fundtions of the three engagemnet descriptors.\n"
   ]
  }
 ],
 "metadata": {
  "kernelspec": {
   "display_name": "Python 3 (ipykernel)",
   "language": "python",
   "name": "python3"
  },
  "language_info": {
   "codemirror_mode": {
    "name": "ipython",
    "version": 3
   },
   "file_extension": ".py",
   "mimetype": "text/x-python",
   "name": "python",
   "nbconvert_exporter": "python",
   "pygments_lexer": "ipython3",
   "version": "3.9.12"
  }
 },
 "nbformat": 4,
 "nbformat_minor": 5
}
