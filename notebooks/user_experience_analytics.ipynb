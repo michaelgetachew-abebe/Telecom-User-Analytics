{
 "cells": [
  {
   "cell_type": "markdown",
   "id": "63af9dd8",
   "metadata": {},
   "source": [
    "# TASK 3: USER EXPERIENCE ANALYSIS"
   ]
  },
  {
   "cell_type": "code",
   "execution_count": 1,
   "id": "d397589f",
   "metadata": {},
   "outputs": [],
   "source": [
    "import os\n",
    "import sys\n",
    "sys.path.append(os.path.abspath(os.path.join('../scripts')))\n",
    "import seaborn as sns\n",
    "import matplotlib.pyplot as plt\n",
    "%matplotlib inline\n",
    "import plotly.express as px"
   ]
  },
  {
   "cell_type": "code",
   "execution_count": 2,
   "id": "c757326d",
   "metadata": {},
   "outputs": [],
   "source": [
    "import warnings\n",
    "warnings.filterwarnings('ignore')"
   ]
  },
  {
   "cell_type": "code",
   "execution_count": 3,
   "id": "3e9c471f",
   "metadata": {},
   "outputs": [],
   "source": [
    "import pandas as pd\n",
    "import numpy as np\n",
    "import plotter\n",
    "from assistant_functions import Assistants\n",
    "from cleaner import CleanTelecomData"
   ]
  },
  {
   "cell_type": "markdown",
   "id": "626de3db",
   "metadata": {},
   "source": [
    "#### Load the dataset into the workspace"
   ]
  },
  {
   "cell_type": "code",
   "execution_count": 4,
   "id": "159de0f8",
   "metadata": {},
   "outputs": [
    {
     "name": "stdout",
     "output_type": "stream",
     "text": [
      "file read as csv\n"
     ]
    }
   ],
   "source": [
    "assistant = Assistants()\n",
    "df = assistant.read_csv(csv_path = \"../data/clened_data.csv\")"
   ]
  },
  {
   "cell_type": "code",
   "execution_count": 5,
   "id": "e42af6f0",
   "metadata": {},
   "outputs": [
    {
     "data": {
      "text/html": [
       "<div>\n",
       "<style scoped>\n",
       "    .dataframe tbody tr th:only-of-type {\n",
       "        vertical-align: middle;\n",
       "    }\n",
       "\n",
       "    .dataframe tbody tr th {\n",
       "        vertical-align: top;\n",
       "    }\n",
       "\n",
       "    .dataframe thead th {\n",
       "        text-align: right;\n",
       "    }\n",
       "</style>\n",
       "<table border=\"1\" class=\"dataframe\">\n",
       "  <thead>\n",
       "    <tr style=\"text-align: right;\">\n",
       "      <th></th>\n",
       "      <th>bearer_id</th>\n",
       "      <th>start</th>\n",
       "      <th>start_ms</th>\n",
       "      <th>end</th>\n",
       "      <th>end_ms</th>\n",
       "      <th>dur._(ms)</th>\n",
       "      <th>imsi</th>\n",
       "      <th>msisdn/number</th>\n",
       "      <th>imei</th>\n",
       "      <th>last_location_name</th>\n",
       "      <th>...</th>\n",
       "      <th>total_ul_(bytes)</th>\n",
       "      <th>total_dl_(bytes)</th>\n",
       "      <th>social_media</th>\n",
       "      <th>google</th>\n",
       "      <th>email</th>\n",
       "      <th>youtube</th>\n",
       "      <th>netflix</th>\n",
       "      <th>gaming</th>\n",
       "      <th>other</th>\n",
       "      <th>total_data</th>\n",
       "    </tr>\n",
       "  </thead>\n",
       "  <tbody>\n",
       "    <tr>\n",
       "      <th>0</th>\n",
       "      <td>1.311448e+19</td>\n",
       "      <td>2019-04-04 12:01:00</td>\n",
       "      <td>770.0</td>\n",
       "      <td>2019-04-25 14:35:00</td>\n",
       "      <td>662.0</td>\n",
       "      <td>1823652.0</td>\n",
       "      <td>2.082014e+14</td>\n",
       "      <td>3.366496e+10</td>\n",
       "      <td>3.552121e+13</td>\n",
       "      <td>9.16456699548519E+015</td>\n",
       "      <td>...</td>\n",
       "      <td>36749741.0</td>\n",
       "      <td>308879636.0</td>\n",
       "      <td>1570185.0</td>\n",
       "      <td>2905912.0</td>\n",
       "      <td>3701304.0</td>\n",
       "      <td>18355943.0</td>\n",
       "      <td>17855187.0</td>\n",
       "      <td>292426453.0</td>\n",
       "      <td>180558843.0</td>\n",
       "      <td>345629377.0</td>\n",
       "    </tr>\n",
       "    <tr>\n",
       "      <th>1</th>\n",
       "      <td>1.311448e+19</td>\n",
       "      <td>2019-04-09 13:04:00</td>\n",
       "      <td>235.0</td>\n",
       "      <td>2019-04-25 08:15:00</td>\n",
       "      <td>606.0</td>\n",
       "      <td>1365104.0</td>\n",
       "      <td>2.082019e+14</td>\n",
       "      <td>3.368185e+10</td>\n",
       "      <td>3.579401e+13</td>\n",
       "      <td>L77566A</td>\n",
       "      <td>...</td>\n",
       "      <td>53800391.0</td>\n",
       "      <td>653384965.0</td>\n",
       "      <td>1933278.0</td>\n",
       "      <td>4414096.0</td>\n",
       "      <td>937385.0</td>\n",
       "      <td>39359124.0</td>\n",
       "      <td>35565545.0</td>\n",
       "      <td>609920783.0</td>\n",
       "      <td>541959383.0</td>\n",
       "      <td>707185356.0</td>\n",
       "    </tr>\n",
       "    <tr>\n",
       "      <th>2</th>\n",
       "      <td>1.311448e+19</td>\n",
       "      <td>2019-04-09 17:42:00</td>\n",
       "      <td>1.0</td>\n",
       "      <td>2019-04-25 11:58:00</td>\n",
       "      <td>652.0</td>\n",
       "      <td>1361762.0</td>\n",
       "      <td>2.082003e+14</td>\n",
       "      <td>3.376063e+10</td>\n",
       "      <td>3.528151e+13</td>\n",
       "      <td>D42335A</td>\n",
       "      <td>...</td>\n",
       "      <td>27883638.0</td>\n",
       "      <td>279807335.0</td>\n",
       "      <td>1726277.0</td>\n",
       "      <td>10229119.0</td>\n",
       "      <td>3363124.0</td>\n",
       "      <td>34425237.0</td>\n",
       "      <td>23751202.0</td>\n",
       "      <td>229980251.0</td>\n",
       "      <td>414908351.0</td>\n",
       "      <td>307690973.0</td>\n",
       "    </tr>\n",
       "    <tr>\n",
       "      <th>3</th>\n",
       "      <td>1.311448e+19</td>\n",
       "      <td>2019-04-10 00:31:00</td>\n",
       "      <td>486.0</td>\n",
       "      <td>2019-04-25 07:36:00</td>\n",
       "      <td>171.0</td>\n",
       "      <td>1321509.0</td>\n",
       "      <td>2.082014e+14</td>\n",
       "      <td>3.375034e+10</td>\n",
       "      <td>3.535661e+13</td>\n",
       "      <td>T21824A</td>\n",
       "      <td>...</td>\n",
       "      <td>43324218.0</td>\n",
       "      <td>846028530.0</td>\n",
       "      <td>657493.0</td>\n",
       "      <td>11811761.0</td>\n",
       "      <td>2070983.0</td>\n",
       "      <td>36534765.0</td>\n",
       "      <td>15092588.0</td>\n",
       "      <td>810387875.0</td>\n",
       "      <td>761837216.0</td>\n",
       "      <td>889352748.0</td>\n",
       "    </tr>\n",
       "    <tr>\n",
       "      <th>4</th>\n",
       "      <td>1.311448e+19</td>\n",
       "      <td>2019-04-12 20:10:00</td>\n",
       "      <td>565.0</td>\n",
       "      <td>2019-04-25 10:40:00</td>\n",
       "      <td>954.0</td>\n",
       "      <td>1089009.0</td>\n",
       "      <td>2.082014e+14</td>\n",
       "      <td>3.369980e+10</td>\n",
       "      <td>3.540701e+13</td>\n",
       "      <td>D88865A</td>\n",
       "      <td>...</td>\n",
       "      <td>38542814.0</td>\n",
       "      <td>569138589.0</td>\n",
       "      <td>912788.0</td>\n",
       "      <td>7748843.0</td>\n",
       "      <td>2110349.0</td>\n",
       "      <td>34222253.0</td>\n",
       "      <td>17539799.0</td>\n",
       "      <td>531237049.0</td>\n",
       "      <td>564619822.0</td>\n",
       "      <td>607681403.0</td>\n",
       "    </tr>\n",
       "  </tbody>\n",
       "</table>\n",
       "<p>5 rows × 63 columns</p>\n",
       "</div>"
      ],
      "text/plain": [
       "      bearer_id                start  start_ms                  end  end_ms  \\\n",
       "0  1.311448e+19  2019-04-04 12:01:00     770.0  2019-04-25 14:35:00   662.0   \n",
       "1  1.311448e+19  2019-04-09 13:04:00     235.0  2019-04-25 08:15:00   606.0   \n",
       "2  1.311448e+19  2019-04-09 17:42:00       1.0  2019-04-25 11:58:00   652.0   \n",
       "3  1.311448e+19  2019-04-10 00:31:00     486.0  2019-04-25 07:36:00   171.0   \n",
       "4  1.311448e+19  2019-04-12 20:10:00     565.0  2019-04-25 10:40:00   954.0   \n",
       "\n",
       "   dur._(ms)          imsi  msisdn/number          imei  \\\n",
       "0  1823652.0  2.082014e+14   3.366496e+10  3.552121e+13   \n",
       "1  1365104.0  2.082019e+14   3.368185e+10  3.579401e+13   \n",
       "2  1361762.0  2.082003e+14   3.376063e+10  3.528151e+13   \n",
       "3  1321509.0  2.082014e+14   3.375034e+10  3.535661e+13   \n",
       "4  1089009.0  2.082014e+14   3.369980e+10  3.540701e+13   \n",
       "\n",
       "      last_location_name  ...  total_ul_(bytes)  total_dl_(bytes)  \\\n",
       "0  9.16456699548519E+015  ...        36749741.0       308879636.0   \n",
       "1                L77566A  ...        53800391.0       653384965.0   \n",
       "2                D42335A  ...        27883638.0       279807335.0   \n",
       "3                T21824A  ...        43324218.0       846028530.0   \n",
       "4                D88865A  ...        38542814.0       569138589.0   \n",
       "\n",
       "   social_media      google      email     youtube     netflix       gaming  \\\n",
       "0     1570185.0   2905912.0  3701304.0  18355943.0  17855187.0  292426453.0   \n",
       "1     1933278.0   4414096.0   937385.0  39359124.0  35565545.0  609920783.0   \n",
       "2     1726277.0  10229119.0  3363124.0  34425237.0  23751202.0  229980251.0   \n",
       "3      657493.0  11811761.0  2070983.0  36534765.0  15092588.0  810387875.0   \n",
       "4      912788.0   7748843.0  2110349.0  34222253.0  17539799.0  531237049.0   \n",
       "\n",
       "         other   total_data  \n",
       "0  180558843.0  345629377.0  \n",
       "1  541959383.0  707185356.0  \n",
       "2  414908351.0  307690973.0  \n",
       "3  761837216.0  889352748.0  \n",
       "4  564619822.0  607681403.0  \n",
       "\n",
       "[5 rows x 63 columns]"
      ]
     },
     "execution_count": 5,
     "metadata": {},
     "output_type": "execute_result"
    }
   ],
   "source": [
    "df.head()"
   ]
  },
  {
   "cell_type": "code",
   "execution_count": 6,
   "id": "6e91f0ad",
   "metadata": {},
   "outputs": [],
   "source": [
    "user_experience_df = df[['msisdn/number', 'avg_rtt_dl_(ms)', 'avg_rtt_ul_(ms)', \n",
    "           'avg_bearer_tp_dl_(kbps)', 'avg_bearer_tp_ul_(kbps)',\n",
    "           'tcp_dl_retrans._vol_(bytes)', 'tcp_ul_retrans._vol_(bytes)',\n",
    "           'handset_type']]"
   ]
  },
  {
   "cell_type": "code",
   "execution_count": 7,
   "id": "971640e3",
   "metadata": {},
   "outputs": [
    {
     "data": {
      "text/html": [
       "<div>\n",
       "<style scoped>\n",
       "    .dataframe tbody tr th:only-of-type {\n",
       "        vertical-align: middle;\n",
       "    }\n",
       "\n",
       "    .dataframe tbody tr th {\n",
       "        vertical-align: top;\n",
       "    }\n",
       "\n",
       "    .dataframe thead th {\n",
       "        text-align: right;\n",
       "    }\n",
       "</style>\n",
       "<table border=\"1\" class=\"dataframe\">\n",
       "  <thead>\n",
       "    <tr style=\"text-align: right;\">\n",
       "      <th></th>\n",
       "      <th>msisdn/number</th>\n",
       "      <th>avg_rtt_dl_(ms)</th>\n",
       "      <th>avg_rtt_ul_(ms)</th>\n",
       "      <th>avg_bearer_tp_dl_(kbps)</th>\n",
       "      <th>avg_bearer_tp_ul_(kbps)</th>\n",
       "      <th>tcp_dl_retrans._vol_(bytes)</th>\n",
       "      <th>tcp_ul_retrans._vol_(bytes)</th>\n",
       "      <th>handset_type</th>\n",
       "    </tr>\n",
       "  </thead>\n",
       "  <tbody>\n",
       "    <tr>\n",
       "      <th>0</th>\n",
       "      <td>3.366496e+10</td>\n",
       "      <td>42.000000</td>\n",
       "      <td>5.000000</td>\n",
       "      <td>23.0</td>\n",
       "      <td>44.0</td>\n",
       "      <td>2.105238e+07</td>\n",
       "      <td>772902.274842</td>\n",
       "      <td>Samsung Galaxy A5 Sm-A520F</td>\n",
       "    </tr>\n",
       "    <tr>\n",
       "      <th>1</th>\n",
       "      <td>3.368185e+10</td>\n",
       "      <td>65.000000</td>\n",
       "      <td>5.000000</td>\n",
       "      <td>16.0</td>\n",
       "      <td>26.0</td>\n",
       "      <td>2.105238e+07</td>\n",
       "      <td>772902.274842</td>\n",
       "      <td>Samsung Galaxy J5 (Sm-J530)</td>\n",
       "    </tr>\n",
       "    <tr>\n",
       "      <th>2</th>\n",
       "      <td>3.376063e+10</td>\n",
       "      <td>105.959783</td>\n",
       "      <td>17.633655</td>\n",
       "      <td>6.0</td>\n",
       "      <td>9.0</td>\n",
       "      <td>2.105238e+07</td>\n",
       "      <td>772902.274842</td>\n",
       "      <td>Samsung Galaxy A8 (2018)</td>\n",
       "    </tr>\n",
       "    <tr>\n",
       "      <th>3</th>\n",
       "      <td>3.375034e+10</td>\n",
       "      <td>105.959783</td>\n",
       "      <td>17.633655</td>\n",
       "      <td>44.0</td>\n",
       "      <td>44.0</td>\n",
       "      <td>2.105238e+07</td>\n",
       "      <td>772902.274842</td>\n",
       "      <td>undefined</td>\n",
       "    </tr>\n",
       "    <tr>\n",
       "      <th>4</th>\n",
       "      <td>3.369980e+10</td>\n",
       "      <td>105.959783</td>\n",
       "      <td>17.633655</td>\n",
       "      <td>6.0</td>\n",
       "      <td>9.0</td>\n",
       "      <td>2.105238e+07</td>\n",
       "      <td>772902.274842</td>\n",
       "      <td>Samsung Sm-G390F</td>\n",
       "    </tr>\n",
       "  </tbody>\n",
       "</table>\n",
       "</div>"
      ],
      "text/plain": [
       "   msisdn/number  avg_rtt_dl_(ms)  avg_rtt_ul_(ms)  avg_bearer_tp_dl_(kbps)  \\\n",
       "0   3.366496e+10        42.000000         5.000000                     23.0   \n",
       "1   3.368185e+10        65.000000         5.000000                     16.0   \n",
       "2   3.376063e+10       105.959783        17.633655                      6.0   \n",
       "3   3.375034e+10       105.959783        17.633655                     44.0   \n",
       "4   3.369980e+10       105.959783        17.633655                      6.0   \n",
       "\n",
       "   avg_bearer_tp_ul_(kbps)  tcp_dl_retrans._vol_(bytes)  \\\n",
       "0                     44.0                 2.105238e+07   \n",
       "1                     26.0                 2.105238e+07   \n",
       "2                      9.0                 2.105238e+07   \n",
       "3                     44.0                 2.105238e+07   \n",
       "4                      9.0                 2.105238e+07   \n",
       "\n",
       "   tcp_ul_retrans._vol_(bytes)                 handset_type  \n",
       "0                772902.274842   Samsung Galaxy A5 Sm-A520F  \n",
       "1                772902.274842  Samsung Galaxy J5 (Sm-J530)  \n",
       "2                772902.274842     Samsung Galaxy A8 (2018)  \n",
       "3                772902.274842                    undefined  \n",
       "4                772902.274842             Samsung Sm-G390F  "
      ]
     },
     "execution_count": 7,
     "metadata": {},
     "output_type": "execute_result"
    }
   ],
   "source": [
    "user_experience_df.head()"
   ]
  },
  {
   "cell_type": "markdown",
   "id": "da606856",
   "metadata": {},
   "source": [
    "### Handle outliers"
   ]
  },
  {
   "cell_type": "code",
   "execution_count": 10,
   "id": "92a744ee",
   "metadata": {},
   "outputs": [],
   "source": [
    "# Handle the outliers present in the data using the handle_outliers method in the assistant_functions module\n",
    "\n",
    "treated_user_experience = assistant.handle_outliers_with_mode(user_experience_df, 'avg_rtt_dl_(ms)', method = \"mean\")\n",
    "treated_user_experience = assistant.handle_outliers_with_mode(user_experience_df, 'avg_rtt_ul_(ms)', method = \"mean\")\n",
    "\n",
    "treated_user_experience = assistant.handle_outliers_with_mode(user_experience_df, 'avg_bearer_tp_dl_(kbps)', method = \"mean\")\n",
    "treated_user_experience = assistant.handle_outliers_with_mode(user_experience_df, 'avg_bearer_tp_ul_(kbps)', method = \"mean\")\n",
    "\n",
    "treated_user_experience = assistant.handle_outliers_with_mode(user_experience_df, 'tcp_ul_retrans._vol_(bytes)', method = \"mean\")\n",
    "treated_user_experience = assistant.handle_outliers_with_mode(user_experience_df, 'tcp_dl_retrans._vol_(bytes)', method = \"mean\")"
   ]
  },
  {
   "cell_type": "markdown",
   "id": "498afb48",
   "metadata": {},
   "source": [
    "### Introduce a new data frame to accommodate the aggregate values related to\n",
    "#### *Average TCP retransmission\n",
    "#### *Average RTT\n",
    "#### *Handset type\n",
    "#### *Average throughput\n"
   ]
  },
  {
   "cell_type": "code",
   "execution_count": 12,
   "id": "11391cd2",
   "metadata": {},
   "outputs": [],
   "source": [
    "# Aggregating the user experience descriptors in to one data frame\n",
    "user_experience_metrics_df = pd.DataFrame(columns = ['msisdnum','tcp_retrans_bytes','average_rtt_ms','handset_type','avarage_throughput_kbps'])\n",
    "user_experience_metrics_df['tcp_retrans_bytes'] = treated_user_experience['tcp_ul_retrans._vol_(bytes)'] + treated_user_experience['tcp_dl_retrans._vol_(bytes)']\n",
    "user_experience_metrics_df['average_rtt_ms'] = treated_user_experience['avg_rtt_dl_(ms)'] + treated_user_experience['avg_rtt_ul_(ms)']\n",
    "user_experience_metrics_df['handset_type'] = treated_user_experience['handset_type']\n",
    "user_experience_metrics_df['avarage_throughput_kbps'] = treated_user_experience['avg_bearer_tp_dl_(kbps)'] + treated_user_experience['avg_bearer_tp_ul_(kbps)']\n",
    "user_experience_metrics_df['msisdnum'] = treated_user_experience['msisdn/number']"
   ]
  },
  {
   "cell_type": "code",
   "execution_count": 13,
   "id": "7c709fa4",
   "metadata": {},
   "outputs": [
    {
     "data": {
      "text/html": [
       "<div>\n",
       "<style scoped>\n",
       "    .dataframe tbody tr th:only-of-type {\n",
       "        vertical-align: middle;\n",
       "    }\n",
       "\n",
       "    .dataframe tbody tr th {\n",
       "        vertical-align: top;\n",
       "    }\n",
       "\n",
       "    .dataframe thead th {\n",
       "        text-align: right;\n",
       "    }\n",
       "</style>\n",
       "<table border=\"1\" class=\"dataframe\">\n",
       "  <thead>\n",
       "    <tr style=\"text-align: right;\">\n",
       "      <th></th>\n",
       "      <th>msisdnum</th>\n",
       "      <th>tcp_retrans_bytes</th>\n",
       "      <th>average_rtt_ms</th>\n",
       "      <th>handset_type</th>\n",
       "      <th>avarage_throughput_kbps</th>\n",
       "    </tr>\n",
       "  </thead>\n",
       "  <tbody>\n",
       "    <tr>\n",
       "      <th>0</th>\n",
       "      <td>3.366496e+10</td>\n",
       "      <td>2.182528e+07</td>\n",
       "      <td>47.000000</td>\n",
       "      <td>Samsung Galaxy A5 Sm-A520F</td>\n",
       "      <td>67.0</td>\n",
       "    </tr>\n",
       "    <tr>\n",
       "      <th>1</th>\n",
       "      <td>3.368185e+10</td>\n",
       "      <td>2.182528e+07</td>\n",
       "      <td>70.000000</td>\n",
       "      <td>Samsung Galaxy J5 (Sm-J530)</td>\n",
       "      <td>42.0</td>\n",
       "    </tr>\n",
       "    <tr>\n",
       "      <th>2</th>\n",
       "      <td>3.376063e+10</td>\n",
       "      <td>2.182528e+07</td>\n",
       "      <td>123.593439</td>\n",
       "      <td>Samsung Galaxy A8 (2018)</td>\n",
       "      <td>15.0</td>\n",
       "    </tr>\n",
       "    <tr>\n",
       "      <th>3</th>\n",
       "      <td>3.375034e+10</td>\n",
       "      <td>2.182528e+07</td>\n",
       "      <td>123.593439</td>\n",
       "      <td>undefined</td>\n",
       "      <td>88.0</td>\n",
       "    </tr>\n",
       "    <tr>\n",
       "      <th>4</th>\n",
       "      <td>3.369980e+10</td>\n",
       "      <td>2.182528e+07</td>\n",
       "      <td>123.593439</td>\n",
       "      <td>Samsung Sm-G390F</td>\n",
       "      <td>15.0</td>\n",
       "    </tr>\n",
       "  </tbody>\n",
       "</table>\n",
       "</div>"
      ],
      "text/plain": [
       "       msisdnum  tcp_retrans_bytes  average_rtt_ms  \\\n",
       "0  3.366496e+10       2.182528e+07       47.000000   \n",
       "1  3.368185e+10       2.182528e+07       70.000000   \n",
       "2  3.376063e+10       2.182528e+07      123.593439   \n",
       "3  3.375034e+10       2.182528e+07      123.593439   \n",
       "4  3.369980e+10       2.182528e+07      123.593439   \n",
       "\n",
       "                  handset_type  avarage_throughput_kbps  \n",
       "0   Samsung Galaxy A5 Sm-A520F                     67.0  \n",
       "1  Samsung Galaxy J5 (Sm-J530)                     42.0  \n",
       "2     Samsung Galaxy A8 (2018)                     15.0  \n",
       "3                    undefined                     88.0  \n",
       "4             Samsung Sm-G390F                     15.0  "
      ]
     },
     "execution_count": 13,
     "metadata": {},
     "output_type": "execute_result"
    }
   ],
   "source": [
    "user_experience_metrics_df.head()"
   ]
  },
  {
   "cell_type": "markdown",
   "id": "0ecece02",
   "metadata": {},
   "source": [
    "#### Aggregate, per customer, the following information (treat missing & outliers by replacing by the mean or the mode of the corresponding variable):\n",
    "#### >>Average TCP retransmission\n",
    "#### >>Average RTT\n",
    "#### >>Handset type\n",
    "#### >>Average throughput"
   ]
  },
  {
   "cell_type": "code",
   "execution_count": 35,
   "id": "5fa56961",
   "metadata": {},
   "outputs": [],
   "source": [
    "user_expericence_aggregate = user_experience_metrics_df.groupby('msisdnum').agg({'average_rtt_ms': 'sum',\n",
    "                                                                          'avarage_throughput_kbps': 'sum',\n",
    "                                                                          'tcp_retrans_bytes': 'sum', \n",
    "                                                                           'handset_type': lambda x: x.mode()[0]})"
   ]
  },
  {
   "cell_type": "code",
   "execution_count": 37,
   "id": "68a5f841",
   "metadata": {},
   "outputs": [],
   "source": [
    "user_expericence_aggregate = assistant.handle_outliers_with_mode(user_expericence_aggregate, 'average_rtt_ms', method=\"mean\")\n",
    "\n",
    "user_expericence_aggregate = assistant.handle_outliers_with_mode(user_expericence_aggregate, 'avarage_throughput_kbps', method=\"mean\")\n",
    "\n",
    "user_expericence_aggregate = assistant.handle_outliers_with_mode(user_expericence_aggregate, 'tcp_retrans_bytes', method=\"mean\")"
   ]
  },
  {
   "cell_type": "code",
   "execution_count": 38,
   "id": "a1fff64e",
   "metadata": {},
   "outputs": [
    {
     "data": {
      "text/html": [
       "<div>\n",
       "<style scoped>\n",
       "    .dataframe tbody tr th:only-of-type {\n",
       "        vertical-align: middle;\n",
       "    }\n",
       "\n",
       "    .dataframe tbody tr th {\n",
       "        vertical-align: top;\n",
       "    }\n",
       "\n",
       "    .dataframe thead th {\n",
       "        text-align: right;\n",
       "    }\n",
       "</style>\n",
       "<table border=\"1\" class=\"dataframe\">\n",
       "  <thead>\n",
       "    <tr style=\"text-align: right;\">\n",
       "      <th></th>\n",
       "      <th>average_rtt_ms</th>\n",
       "      <th>avarage_throughput_kbps</th>\n",
       "      <th>tcp_retrans_bytes</th>\n",
       "      <th>handset_type</th>\n",
       "    </tr>\n",
       "    <tr>\n",
       "      <th>msisdnum</th>\n",
       "      <th></th>\n",
       "      <th></th>\n",
       "      <th></th>\n",
       "      <th></th>\n",
       "    </tr>\n",
       "  </thead>\n",
       "  <tbody>\n",
       "    <tr>\n",
       "      <th>3.360100e+10</th>\n",
       "      <td>46.000000</td>\n",
       "      <td>76.0</td>\n",
       "      <td>2.182528e+07</td>\n",
       "      <td>Huawei P20 Lite Huawei Nova 3E</td>\n",
       "    </tr>\n",
       "    <tr>\n",
       "      <th>3.360100e+10</th>\n",
       "      <td>31.000000</td>\n",
       "      <td>99.0</td>\n",
       "      <td>2.182528e+07</td>\n",
       "      <td>Apple iPhone 7 (A1778)</td>\n",
       "    </tr>\n",
       "    <tr>\n",
       "      <th>3.360100e+10</th>\n",
       "      <td>123.593439</td>\n",
       "      <td>97.0</td>\n",
       "      <td>2.182528e+07</td>\n",
       "      <td>undefined</td>\n",
       "    </tr>\n",
       "    <tr>\n",
       "      <th>3.360101e+10</th>\n",
       "      <td>84.000000</td>\n",
       "      <td>248.0</td>\n",
       "      <td>7.739683e+05</td>\n",
       "      <td>Apple iPhone 5S (A1457)</td>\n",
       "    </tr>\n",
       "    <tr>\n",
       "      <th>3.360101e+10</th>\n",
       "      <td>119.000000</td>\n",
       "      <td>56844.0</td>\n",
       "      <td>3.119611e+07</td>\n",
       "      <td>Apple iPhone Se (A1723)</td>\n",
       "    </tr>\n",
       "  </tbody>\n",
       "</table>\n",
       "</div>"
      ],
      "text/plain": [
       "              average_rtt_ms  avarage_throughput_kbps  tcp_retrans_bytes  \\\n",
       "msisdnum                                                                   \n",
       "3.360100e+10       46.000000                     76.0       2.182528e+07   \n",
       "3.360100e+10       31.000000                     99.0       2.182528e+07   \n",
       "3.360100e+10      123.593439                     97.0       2.182528e+07   \n",
       "3.360101e+10       84.000000                    248.0       7.739683e+05   \n",
       "3.360101e+10      119.000000                  56844.0       3.119611e+07   \n",
       "\n",
       "                                handset_type  \n",
       "msisdnum                                      \n",
       "3.360100e+10  Huawei P20 Lite Huawei Nova 3E  \n",
       "3.360100e+10          Apple iPhone 7 (A1778)  \n",
       "3.360100e+10                       undefined  \n",
       "3.360101e+10         Apple iPhone 5S (A1457)  \n",
       "3.360101e+10         Apple iPhone Se (A1723)  "
      ]
     },
     "execution_count": 38,
     "metadata": {},
     "output_type": "execute_result"
    }
   ],
   "source": [
    "user_expericence_aggregate.head()"
   ]
  },
  {
   "cell_type": "code",
   "execution_count": 40,
   "id": "255c6c85",
   "metadata": {},
   "outputs": [
    {
     "data": {
      "text/html": [
       "<div>\n",
       "<style scoped>\n",
       "    .dataframe tbody tr th:only-of-type {\n",
       "        vertical-align: middle;\n",
       "    }\n",
       "\n",
       "    .dataframe tbody tr th {\n",
       "        vertical-align: top;\n",
       "    }\n",
       "\n",
       "    .dataframe thead th {\n",
       "        text-align: right;\n",
       "    }\n",
       "</style>\n",
       "<table border=\"1\" class=\"dataframe\">\n",
       "  <thead>\n",
       "    <tr style=\"text-align: right;\">\n",
       "      <th></th>\n",
       "      <th>average_rtt_ms</th>\n",
       "      <th>avarage_throughput_kbps</th>\n",
       "      <th>tcp_retrans_bytes</th>\n",
       "    </tr>\n",
       "  </thead>\n",
       "  <tbody>\n",
       "    <tr>\n",
       "      <th>count</th>\n",
       "      <td>105719.000000</td>\n",
       "      <td>105719.000000</td>\n",
       "      <td>1.057190e+05</td>\n",
       "    </tr>\n",
       "    <tr>\n",
       "      <th>mean</th>\n",
       "      <td>101.133200</td>\n",
       "      <td>11119.476911</td>\n",
       "      <td>1.844254e+07</td>\n",
       "    </tr>\n",
       "    <tr>\n",
       "      <th>std</th>\n",
       "      <td>60.771090</td>\n",
       "      <td>16439.290307</td>\n",
       "      <td>1.190691e+07</td>\n",
       "    </tr>\n",
       "    <tr>\n",
       "      <th>min</th>\n",
       "      <td>0.000000</td>\n",
       "      <td>0.000000</td>\n",
       "      <td>9.700000e+01</td>\n",
       "    </tr>\n",
       "    <tr>\n",
       "      <th>25%</th>\n",
       "      <td>47.000000</td>\n",
       "      <td>97.000000</td>\n",
       "      <td>6.899479e+06</td>\n",
       "    </tr>\n",
       "    <tr>\n",
       "      <th>50%</th>\n",
       "      <td>92.000000</td>\n",
       "      <td>302.000000</td>\n",
       "      <td>2.182528e+07</td>\n",
       "    </tr>\n",
       "    <tr>\n",
       "      <th>75%</th>\n",
       "      <td>138.000000</td>\n",
       "      <td>21130.226525</td>\n",
       "      <td>2.182528e+07</td>\n",
       "    </tr>\n",
       "    <tr>\n",
       "      <th>max</th>\n",
       "      <td>274.186877</td>\n",
       "      <td>66825.000000</td>\n",
       "      <td>4.421086e+07</td>\n",
       "    </tr>\n",
       "  </tbody>\n",
       "</table>\n",
       "</div>"
      ],
      "text/plain": [
       "       average_rtt_ms  avarage_throughput_kbps  tcp_retrans_bytes\n",
       "count   105719.000000            105719.000000       1.057190e+05\n",
       "mean       101.133200             11119.476911       1.844254e+07\n",
       "std         60.771090             16439.290307       1.190691e+07\n",
       "min          0.000000                 0.000000       9.700000e+01\n",
       "25%         47.000000                97.000000       6.899479e+06\n",
       "50%         92.000000               302.000000       2.182528e+07\n",
       "75%        138.000000             21130.226525       2.182528e+07\n",
       "max        274.186877             66825.000000       4.421086e+07"
      ]
     },
     "execution_count": 40,
     "metadata": {},
     "output_type": "execute_result"
    }
   ],
   "source": [
    "user_expericence_aggregate.describe()"
   ]
  },
  {
   "cell_type": "markdown",
   "id": "463c7625",
   "metadata": {},
   "source": [
    "### Compute & list 10 of the top, bottom and most frequent:\n",
    "##### a) TCP values in the dataset.\n"
   ]
  },
  {
   "cell_type": "code",
   "execution_count": 43,
   "id": "6c2a0c38",
   "metadata": {},
   "outputs": [],
   "source": [
    "tcp_values_df = user_experience_metrics_df.sort_values(by = ['tcp_retrans_bytes'], ascending=False)\n",
    "\n",
    "# TOP 10 TCP VALUES IN THE DATASET\n",
    "top_10_tcp = tcp_values_df.head(10)\n",
    "\n",
    "# BOTTOM 10 TCP VALUES IN THE DATASET\n",
    "bottom_10_tcp = tcp_values_df.tail(10)\n",
    "\n",
    "# MOST FREQUENT TCP \n",
    "most_frq_tcp = tcp_values_df['tcp_retrans_bytes'].value_counts().head()"
   ]
  },
  {
   "cell_type": "markdown",
   "id": "1ec2cd99",
   "metadata": {},
   "source": [
    "###### TOP 10 TCP VALUES IN THE DATASET"
   ]
  },
  {
   "cell_type": "code",
   "execution_count": 44,
   "id": "320c0b58",
   "metadata": {},
   "outputs": [
    {
     "data": {
      "text/html": [
       "<div>\n",
       "<style scoped>\n",
       "    .dataframe tbody tr th:only-of-type {\n",
       "        vertical-align: middle;\n",
       "    }\n",
       "\n",
       "    .dataframe tbody tr th {\n",
       "        vertical-align: top;\n",
       "    }\n",
       "\n",
       "    .dataframe thead th {\n",
       "        text-align: right;\n",
       "    }\n",
       "</style>\n",
       "<table border=\"1\" class=\"dataframe\">\n",
       "  <thead>\n",
       "    <tr style=\"text-align: right;\">\n",
       "      <th></th>\n",
       "      <th>tcp_retrans_bytes</th>\n",
       "    </tr>\n",
       "  </thead>\n",
       "  <tbody>\n",
       "    <tr>\n",
       "      <th>34986</th>\n",
       "      <td>2.913408e+09</td>\n",
       "    </tr>\n",
       "    <tr>\n",
       "      <th>74941</th>\n",
       "      <td>2.639770e+09</td>\n",
       "    </tr>\n",
       "    <tr>\n",
       "      <th>65724</th>\n",
       "      <td>2.464814e+09</td>\n",
       "    </tr>\n",
       "    <tr>\n",
       "      <th>1465</th>\n",
       "      <td>2.260712e+09</td>\n",
       "    </tr>\n",
       "    <tr>\n",
       "      <th>130390</th>\n",
       "      <td>1.772436e+09</td>\n",
       "    </tr>\n",
       "    <tr>\n",
       "      <th>33938</th>\n",
       "      <td>1.748862e+09</td>\n",
       "    </tr>\n",
       "    <tr>\n",
       "      <th>139207</th>\n",
       "      <td>1.239951e+09</td>\n",
       "    </tr>\n",
       "    <tr>\n",
       "      <th>139416</th>\n",
       "      <td>7.949480e+08</td>\n",
       "    </tr>\n",
       "    <tr>\n",
       "      <th>64506</th>\n",
       "      <td>7.406242e+08</td>\n",
       "    </tr>\n",
       "    <tr>\n",
       "      <th>1346</th>\n",
       "      <td>5.293231e+08</td>\n",
       "    </tr>\n",
       "  </tbody>\n",
       "</table>\n",
       "</div>"
      ],
      "text/plain": [
       "        tcp_retrans_bytes\n",
       "34986        2.913408e+09\n",
       "74941        2.639770e+09\n",
       "65724        2.464814e+09\n",
       "1465         2.260712e+09\n",
       "130390       1.772436e+09\n",
       "33938        1.748862e+09\n",
       "139207       1.239951e+09\n",
       "139416       7.949480e+08\n",
       "64506        7.406242e+08\n",
       "1346         5.293231e+08"
      ]
     },
     "execution_count": 44,
     "metadata": {},
     "output_type": "execute_result"
    }
   ],
   "source": [
    "top_10_tcp[['tcp_retrans_bytes']]"
   ]
  },
  {
   "cell_type": "markdown",
   "id": "4dfe58bc",
   "metadata": {},
   "source": [
    "###### BOTTOM 10 TCP VALUES IN THE DATASET"
   ]
  },
  {
   "cell_type": "code",
   "execution_count": 45,
   "id": "ec8e23c6",
   "metadata": {},
   "outputs": [
    {
     "data": {
      "text/html": [
       "<div>\n",
       "<style scoped>\n",
       "    .dataframe tbody tr th:only-of-type {\n",
       "        vertical-align: middle;\n",
       "    }\n",
       "\n",
       "    .dataframe tbody tr th {\n",
       "        vertical-align: top;\n",
       "    }\n",
       "\n",
       "    .dataframe thead th {\n",
       "        text-align: right;\n",
       "    }\n",
       "</style>\n",
       "<table border=\"1\" class=\"dataframe\">\n",
       "  <thead>\n",
       "    <tr style=\"text-align: right;\">\n",
       "      <th></th>\n",
       "      <th>tcp_retrans_bytes</th>\n",
       "    </tr>\n",
       "  </thead>\n",
       "  <tbody>\n",
       "    <tr>\n",
       "      <th>12477</th>\n",
       "      <td>143.0</td>\n",
       "    </tr>\n",
       "    <tr>\n",
       "      <th>93685</th>\n",
       "      <td>134.0</td>\n",
       "    </tr>\n",
       "    <tr>\n",
       "      <th>81400</th>\n",
       "      <td>134.0</td>\n",
       "    </tr>\n",
       "    <tr>\n",
       "      <th>97528</th>\n",
       "      <td>129.0</td>\n",
       "    </tr>\n",
       "    <tr>\n",
       "      <th>8580</th>\n",
       "      <td>128.0</td>\n",
       "    </tr>\n",
       "    <tr>\n",
       "      <th>94746</th>\n",
       "      <td>113.0</td>\n",
       "    </tr>\n",
       "    <tr>\n",
       "      <th>12759</th>\n",
       "      <td>108.0</td>\n",
       "    </tr>\n",
       "    <tr>\n",
       "      <th>17773</th>\n",
       "      <td>106.0</td>\n",
       "    </tr>\n",
       "    <tr>\n",
       "      <th>108566</th>\n",
       "      <td>97.0</td>\n",
       "    </tr>\n",
       "    <tr>\n",
       "      <th>140565</th>\n",
       "      <td>86.0</td>\n",
       "    </tr>\n",
       "  </tbody>\n",
       "</table>\n",
       "</div>"
      ],
      "text/plain": [
       "        tcp_retrans_bytes\n",
       "12477               143.0\n",
       "93685               134.0\n",
       "81400               134.0\n",
       "97528               129.0\n",
       "8580                128.0\n",
       "94746               113.0\n",
       "12759               108.0\n",
       "17773               106.0\n",
       "108566               97.0\n",
       "140565               86.0"
      ]
     },
     "execution_count": 45,
     "metadata": {},
     "output_type": "execute_result"
    }
   ],
   "source": [
    "bottom_10_tcp[['tcp_retrans_bytes']]"
   ]
  },
  {
   "cell_type": "markdown",
   "id": "60567fcf",
   "metadata": {},
   "source": [
    "###### MOST FREQUENT TCP VALUES"
   ]
  },
  {
   "cell_type": "code",
   "execution_count": 46,
   "id": "51a04894",
   "metadata": {},
   "outputs": [
    {
     "data": {
      "text/plain": [
       "2.182528e+07    83580\n",
       "2.105367e+07      649\n",
       "7.742323e+05      245\n",
       "2.105371e+07      235\n",
       "7.729403e+05      136\n",
       "Name: tcp_retrans_bytes, dtype: int64"
      ]
     },
     "execution_count": 46,
     "metadata": {},
     "output_type": "execute_result"
    }
   ],
   "source": [
    "most_frq_tcp"
   ]
  },
  {
   "cell_type": "markdown",
   "id": "da2629cd",
   "metadata": {},
   "source": [
    "###### b) RTT values in the dataset"
   ]
  },
  {
   "cell_type": "code",
   "execution_count": 47,
   "id": "bee903ca",
   "metadata": {},
   "outputs": [],
   "source": [
    "rtt_values_df = user_experience_metrics_df.sort_values(by = ['average_rtt_ms'], ascending=False)\n",
    "\n",
    "# TOP 10 TCP VALUES IN THE DATASET\n",
    "top_10_rtt = rtt_values_df.head(10)\n",
    "\n",
    "# BOTTOM 10 TCP VALUES IN THE DATASET\n",
    "bottom_10_rtt = rtt_values_df.tail(10)\n",
    "\n",
    "# MOST FREQUENT TCP \n",
    "most_frq_rtt = rtt_values_df['average_rtt_ms'].value_counts().head()"
   ]
  },
  {
   "cell_type": "markdown",
   "id": "62746e25",
   "metadata": {},
   "source": [
    "###### TOP 10 RTT VALUES IN THE DATASET"
   ]
  },
  {
   "cell_type": "code",
   "execution_count": 48,
   "id": "cf31f648",
   "metadata": {},
   "outputs": [
    {
     "data": {
      "text/html": [
       "<div>\n",
       "<style scoped>\n",
       "    .dataframe tbody tr th:only-of-type {\n",
       "        vertical-align: middle;\n",
       "    }\n",
       "\n",
       "    .dataframe tbody tr th {\n",
       "        vertical-align: top;\n",
       "    }\n",
       "\n",
       "    .dataframe thead th {\n",
       "        text-align: right;\n",
       "    }\n",
       "</style>\n",
       "<table border=\"1\" class=\"dataframe\">\n",
       "  <thead>\n",
       "    <tr style=\"text-align: right;\">\n",
       "      <th></th>\n",
       "      <th>average_rtt_ms</th>\n",
       "    </tr>\n",
       "  </thead>\n",
       "  <tbody>\n",
       "    <tr>\n",
       "      <th>29042</th>\n",
       "      <td>96924.0</td>\n",
       "    </tr>\n",
       "    <tr>\n",
       "      <th>28805</th>\n",
       "      <td>64641.0</td>\n",
       "    </tr>\n",
       "    <tr>\n",
       "      <th>5842</th>\n",
       "      <td>54848.0</td>\n",
       "    </tr>\n",
       "    <tr>\n",
       "      <th>21936</th>\n",
       "      <td>27278.0</td>\n",
       "    </tr>\n",
       "    <tr>\n",
       "      <th>22501</th>\n",
       "      <td>26300.0</td>\n",
       "    </tr>\n",
       "    <tr>\n",
       "      <th>1338</th>\n",
       "      <td>25922.0</td>\n",
       "    </tr>\n",
       "    <tr>\n",
       "      <th>79480</th>\n",
       "      <td>25715.0</td>\n",
       "    </tr>\n",
       "    <tr>\n",
       "      <th>94993</th>\n",
       "      <td>25388.0</td>\n",
       "    </tr>\n",
       "    <tr>\n",
       "      <th>98144</th>\n",
       "      <td>24738.0</td>\n",
       "    </tr>\n",
       "    <tr>\n",
       "      <th>95562</th>\n",
       "      <td>20980.0</td>\n",
       "    </tr>\n",
       "  </tbody>\n",
       "</table>\n",
       "</div>"
      ],
      "text/plain": [
       "       average_rtt_ms\n",
       "29042         96924.0\n",
       "28805         64641.0\n",
       "5842          54848.0\n",
       "21936         27278.0\n",
       "22501         26300.0\n",
       "1338          25922.0\n",
       "79480         25715.0\n",
       "94993         25388.0\n",
       "98144         24738.0\n",
       "95562         20980.0"
      ]
     },
     "execution_count": 48,
     "metadata": {},
     "output_type": "execute_result"
    }
   ],
   "source": [
    "top_10_rtt[['average_rtt_ms']]"
   ]
  },
  {
   "cell_type": "markdown",
   "id": "bbc33dee",
   "metadata": {},
   "source": [
    "###### BOTTOM 10 RTT VALUES IN THE DATASET"
   ]
  },
  {
   "cell_type": "code",
   "execution_count": 51,
   "id": "29e5f1c8",
   "metadata": {},
   "outputs": [
    {
     "data": {
      "text/html": [
       "<div>\n",
       "<style scoped>\n",
       "    .dataframe tbody tr th:only-of-type {\n",
       "        vertical-align: middle;\n",
       "    }\n",
       "\n",
       "    .dataframe tbody tr th {\n",
       "        vertical-align: top;\n",
       "    }\n",
       "\n",
       "    .dataframe thead th {\n",
       "        text-align: right;\n",
       "    }\n",
       "</style>\n",
       "<table border=\"1\" class=\"dataframe\">\n",
       "  <thead>\n",
       "    <tr style=\"text-align: right;\">\n",
       "      <th></th>\n",
       "      <th>average_rtt_ms</th>\n",
       "    </tr>\n",
       "  </thead>\n",
       "  <tbody>\n",
       "    <tr>\n",
       "      <th>120440</th>\n",
       "      <td>6.0</td>\n",
       "    </tr>\n",
       "    <tr>\n",
       "      <th>8542</th>\n",
       "      <td>6.0</td>\n",
       "    </tr>\n",
       "    <tr>\n",
       "      <th>101076</th>\n",
       "      <td>5.0</td>\n",
       "    </tr>\n",
       "    <tr>\n",
       "      <th>141887</th>\n",
       "      <td>4.0</td>\n",
       "    </tr>\n",
       "    <tr>\n",
       "      <th>49585</th>\n",
       "      <td>4.0</td>\n",
       "    </tr>\n",
       "    <tr>\n",
       "      <th>70123</th>\n",
       "      <td>2.0</td>\n",
       "    </tr>\n",
       "    <tr>\n",
       "      <th>41313</th>\n",
       "      <td>0.0</td>\n",
       "    </tr>\n",
       "    <tr>\n",
       "      <th>121759</th>\n",
       "      <td>0.0</td>\n",
       "    </tr>\n",
       "    <tr>\n",
       "      <th>140847</th>\n",
       "      <td>0.0</td>\n",
       "    </tr>\n",
       "    <tr>\n",
       "      <th>100853</th>\n",
       "      <td>0.0</td>\n",
       "    </tr>\n",
       "  </tbody>\n",
       "</table>\n",
       "</div>"
      ],
      "text/plain": [
       "        average_rtt_ms\n",
       "120440             6.0\n",
       "8542               6.0\n",
       "101076             5.0\n",
       "141887             4.0\n",
       "49585              4.0\n",
       "70123              2.0\n",
       "41313              0.0\n",
       "121759             0.0\n",
       "140847             0.0\n",
       "100853             0.0"
      ]
     },
     "execution_count": 51,
     "metadata": {},
     "output_type": "execute_result"
    }
   ],
   "source": [
    "bottom_10_rtt[['average_rtt_ms']]"
   ]
  },
  {
   "cell_type": "markdown",
   "id": "fa782998",
   "metadata": {},
   "source": [
    "###### MOST FREQUENT RTT VALUES"
   ]
  },
  {
   "cell_type": "code",
   "execution_count": 52,
   "id": "d7636a03",
   "metadata": {},
   "outputs": [
    {
     "data": {
      "text/plain": [
       "123.593439    26118\n",
       "29.000000      4987\n",
       "39.000000      4205\n",
       "38.000000      2755\n",
       "40.000000      2635\n",
       "Name: average_rtt_ms, dtype: int64"
      ]
     },
     "execution_count": 52,
     "metadata": {},
     "output_type": "execute_result"
    }
   ],
   "source": [
    "most_frq_rtt"
   ]
  },
  {
   "cell_type": "markdown",
   "id": "2fafbd0a",
   "metadata": {},
   "source": [
    "###### c) Throughput values in the dataset."
   ]
  },
  {
   "cell_type": "code",
   "execution_count": 53,
   "id": "4105c482",
   "metadata": {},
   "outputs": [],
   "source": [
    "throughput_df = user_experience_metrics_df.sort_values(by = ['avarage_throughput_kbps'], ascending=False)\n",
    "\n",
    "# TOP 10 TCP VALUES IN THE DATASET\n",
    "top_10_throughput = throughput_df.head(10)\n",
    "\n",
    "# BOTTOM 10 TCP VALUES IN THE DATASET\n",
    "bottom_10_throughput = throughput_df.tail(10)\n",
    "\n",
    "# MOST FREQUENT TCP \n",
    "most_frq_throughput = throughput_df['avarage_throughput_kbps'].value_counts().head()"
   ]
  },
  {
   "cell_type": "markdown",
   "id": "fdb07609",
   "metadata": {},
   "source": [
    "###### TOP 10 THROUGHPUT VALUES IN THE DATASET"
   ]
  },
  {
   "cell_type": "code",
   "execution_count": 55,
   "id": "ce87d428",
   "metadata": {},
   "outputs": [
    {
     "data": {
      "text/html": [
       "<div>\n",
       "<style scoped>\n",
       "    .dataframe tbody tr th:only-of-type {\n",
       "        vertical-align: middle;\n",
       "    }\n",
       "\n",
       "    .dataframe tbody tr th {\n",
       "        vertical-align: top;\n",
       "    }\n",
       "\n",
       "    .dataframe thead th {\n",
       "        text-align: right;\n",
       "    }\n",
       "</style>\n",
       "<table border=\"1\" class=\"dataframe\">\n",
       "  <thead>\n",
       "    <tr style=\"text-align: right;\">\n",
       "      <th></th>\n",
       "      <th>avarage_throughput_kbps</th>\n",
       "    </tr>\n",
       "  </thead>\n",
       "  <tbody>\n",
       "    <tr>\n",
       "      <th>118147</th>\n",
       "      <td>382262.0</td>\n",
       "    </tr>\n",
       "    <tr>\n",
       "      <th>140640</th>\n",
       "      <td>313244.0</td>\n",
       "    </tr>\n",
       "    <tr>\n",
       "      <th>138247</th>\n",
       "      <td>304299.0</td>\n",
       "    </tr>\n",
       "    <tr>\n",
       "      <th>89224</th>\n",
       "      <td>300546.0</td>\n",
       "    </tr>\n",
       "    <tr>\n",
       "      <th>114151</th>\n",
       "      <td>283931.0</td>\n",
       "    </tr>\n",
       "    <tr>\n",
       "      <th>138445</th>\n",
       "      <td>281144.0</td>\n",
       "    </tr>\n",
       "    <tr>\n",
       "      <th>146516</th>\n",
       "      <td>277152.0</td>\n",
       "    </tr>\n",
       "    <tr>\n",
       "      <th>90071</th>\n",
       "      <td>276205.0</td>\n",
       "    </tr>\n",
       "    <tr>\n",
       "      <th>113912</th>\n",
       "      <td>274052.0</td>\n",
       "    </tr>\n",
       "    <tr>\n",
       "      <th>115115</th>\n",
       "      <td>269888.0</td>\n",
       "    </tr>\n",
       "  </tbody>\n",
       "</table>\n",
       "</div>"
      ],
      "text/plain": [
       "        avarage_throughput_kbps\n",
       "118147                 382262.0\n",
       "140640                 313244.0\n",
       "138247                 304299.0\n",
       "89224                  300546.0\n",
       "114151                 283931.0\n",
       "138445                 281144.0\n",
       "146516                 277152.0\n",
       "90071                  276205.0\n",
       "113912                 274052.0\n",
       "115115                 269888.0"
      ]
     },
     "execution_count": 55,
     "metadata": {},
     "output_type": "execute_result"
    }
   ],
   "source": [
    "top_10_throughput[['avarage_throughput_kbps']]"
   ]
  },
  {
   "cell_type": "markdown",
   "id": "e7639206",
   "metadata": {},
   "source": [
    "###### BOTTOM 10 THROUGHPUT VALUES IN THE DATASET"
   ]
  },
  {
   "cell_type": "code",
   "execution_count": 56,
   "id": "1d7a012b",
   "metadata": {},
   "outputs": [
    {
     "data": {
      "text/html": [
       "<div>\n",
       "<style scoped>\n",
       "    .dataframe tbody tr th:only-of-type {\n",
       "        vertical-align: middle;\n",
       "    }\n",
       "\n",
       "    .dataframe tbody tr th {\n",
       "        vertical-align: top;\n",
       "    }\n",
       "\n",
       "    .dataframe thead th {\n",
       "        text-align: right;\n",
       "    }\n",
       "</style>\n",
       "<table border=\"1\" class=\"dataframe\">\n",
       "  <thead>\n",
       "    <tr style=\"text-align: right;\">\n",
       "      <th></th>\n",
       "      <th>avarage_throughput_kbps</th>\n",
       "    </tr>\n",
       "  </thead>\n",
       "  <tbody>\n",
       "    <tr>\n",
       "      <th>2418</th>\n",
       "      <td>0.0</td>\n",
       "    </tr>\n",
       "    <tr>\n",
       "      <th>9113</th>\n",
       "      <td>0.0</td>\n",
       "    </tr>\n",
       "    <tr>\n",
       "      <th>99055</th>\n",
       "      <td>0.0</td>\n",
       "    </tr>\n",
       "    <tr>\n",
       "      <th>13595</th>\n",
       "      <td>0.0</td>\n",
       "    </tr>\n",
       "    <tr>\n",
       "      <th>19740</th>\n",
       "      <td>0.0</td>\n",
       "    </tr>\n",
       "    <tr>\n",
       "      <th>23546</th>\n",
       "      <td>0.0</td>\n",
       "    </tr>\n",
       "    <tr>\n",
       "      <th>20378</th>\n",
       "      <td>0.0</td>\n",
       "    </tr>\n",
       "    <tr>\n",
       "      <th>65362</th>\n",
       "      <td>0.0</td>\n",
       "    </tr>\n",
       "    <tr>\n",
       "      <th>105952</th>\n",
       "      <td>0.0</td>\n",
       "    </tr>\n",
       "    <tr>\n",
       "      <th>131008</th>\n",
       "      <td>0.0</td>\n",
       "    </tr>\n",
       "  </tbody>\n",
       "</table>\n",
       "</div>"
      ],
      "text/plain": [
       "        avarage_throughput_kbps\n",
       "2418                        0.0\n",
       "9113                        0.0\n",
       "99055                       0.0\n",
       "13595                       0.0\n",
       "19740                       0.0\n",
       "23546                       0.0\n",
       "20378                       0.0\n",
       "65362                       0.0\n",
       "105952                      0.0\n",
       "131008                      0.0"
      ]
     },
     "execution_count": 56,
     "metadata": {},
     "output_type": "execute_result"
    }
   ],
   "source": [
    "bottom_10_throughput[['avarage_throughput_kbps']]"
   ]
  },
  {
   "cell_type": "markdown",
   "id": "237111e8",
   "metadata": {},
   "source": [
    "###### MOST FREQUENT THROUGHPUT VALUES"
   ]
  },
  {
   "cell_type": "code",
   "execution_count": 57,
   "id": "c1ff9438",
   "metadata": {},
   "outputs": [
    {
     "data": {
      "text/plain": [
       "63.0    3884\n",
       "15.0    3678\n",
       "97.0    1945\n",
       "90.0    1882\n",
       "98.0    1799\n",
       "Name: avarage_throughput_kbps, dtype: int64"
      ]
     },
     "execution_count": 57,
     "metadata": {},
     "output_type": "execute_result"
    }
   ],
   "source": [
    "most_frq_throughput"
   ]
  },
  {
   "cell_type": "markdown",
   "id": "defe53b7",
   "metadata": {},
   "source": [
    "#### Compute & report:\n",
    "###### d)The distribution of the average throughput  per handset type and provide interpretation for your findings."
   ]
  },
  {
   "cell_type": "code",
   "execution_count": 59,
   "id": "ae918b79",
   "metadata": {},
   "outputs": [],
   "source": [
    "aggregate_throughput_per_handset = user_experience_metrics_df.groupby('handset_type').agg({'avarage_throughput_kbps': 'sum', 'tcp_retrans_bytes': 'sum'})\n",
    "sorted_aggregate_throughput_per_handset = user_experience_metrics_df.sort_values(by = ['avarage_throughput_kbps'], ascending = False).head(10)\n",
    "\n",
    "handset_throghput_df = sorted_aggregate_throughput_per_handset[['avarage_throughput_kbps']]\n",
    "handset_tp_df['handset_type'] = sorted_aggregate_throughput_per_handset.index"
   ]
  },
  {
   "cell_type": "code",
   "execution_count": 61,
   "id": "56464495",
   "metadata": {},
   "outputs": [
    {
     "data": {
      "image/png": "[encoded data removed]",
      "text/plain": [
       "<Figure size 864x504 with 1 Axes>"
      ]
     },
     "metadata": {
      "needs_background": "light"
     },
     "output_type": "display_data"
    },
    {
     "data": {
      "image/png": "[encoded data removed]",
      "text/plain": [
       "<Figure size 864x504 with 1 Axes>"
      ]
     },
     "metadata": {
      "needs_background": "light"
     },
     "output_type": "display_data"
    }
   ],
   "source": [
    "plotter.plot_box(aggregate_throughput_per_handset, 'avarage_throughput_kbps', 'outlier detection for through output')\n",
    "plotter.plot_box(aggregate_throughput_per_handset, 'tcp_retrans_bytes', 'outlier detection for tcp retransmission')"
   ]
  },
  {
   "cell_type": "code",
   "execution_count": 64,
   "id": "d048df10",
   "metadata": {},
   "outputs": [
    {
     "data": {
      "image/png": "[encoded data removed]",
      "text/plain": [
       "<Figure size 864x504 with 1 Axes>"
      ]
     },
     "metadata": {
      "needs_background": "light"
     },
     "output_type": "display_data"
    }
   ],
   "source": [
    "# The box plots above show that both avarage_throughput_kbps and tcp_retrans_bytes both involve outliers which need to be handelled\n",
    "cleaned_aggregate_throughput_per_handset = assistant.handle_outliers(aggregate_throughput_per_handset, 'avarage_throughput_kbps')\n",
    "\n",
    "plotter.plot_box(cleaned_aggregate_throughput_per_handset, 'avarage_throughput_kbps', 'After outlier detection and correction for through output')"
   ]
  },
  {
   "cell_type": "code",
   "execution_count": 67,
   "id": "2534fe76",
   "metadata": {},
   "outputs": [
    {
     "data": {
      "text/plain": [
       "<Figure size 648x504 with 0 Axes>"
      ]
     },
     "metadata": {},
     "output_type": "display_data"
    },
    {
     "data": {
      "image/png": "[encoded data removed]",
      "text/plain": [
       "<Figure size 1008x504 with 1 Axes>"
      ]
     },
     "metadata": {
      "needs_background": "light"
     },
     "output_type": "display_data"
    },
    {
     "data": {
      "text/html": [
       "<div>\n",
       "<style scoped>\n",
       "    .dataframe tbody tr th:only-of-type {\n",
       "        vertical-align: middle;\n",
       "    }\n",
       "\n",
       "    .dataframe tbody tr th {\n",
       "        vertical-align: top;\n",
       "    }\n",
       "\n",
       "    .dataframe thead th {\n",
       "        text-align: right;\n",
       "    }\n",
       "</style>\n",
       "<table border=\"1\" class=\"dataframe\">\n",
       "  <thead>\n",
       "    <tr style=\"text-align: right;\">\n",
       "      <th></th>\n",
       "      <th>avarage_throughput_kbps</th>\n",
       "      <th>tcp_retrans_bytes</th>\n",
       "    </tr>\n",
       "  </thead>\n",
       "  <tbody>\n",
       "    <tr>\n",
       "      <th>count</th>\n",
       "      <td>1363.000000</td>\n",
       "      <td>1.363000e+03</td>\n",
       "    </tr>\n",
       "    <tr>\n",
       "      <th>mean</th>\n",
       "      <td>74362.737344</td>\n",
       "      <td>1.603788e+09</td>\n",
       "    </tr>\n",
       "    <tr>\n",
       "      <th>std</th>\n",
       "      <td>96691.728868</td>\n",
       "      <td>1.142009e+10</td>\n",
       "    </tr>\n",
       "    <tr>\n",
       "      <th>min</th>\n",
       "      <td>0.000000</td>\n",
       "      <td>3.600000e+02</td>\n",
       "    </tr>\n",
       "    <tr>\n",
       "      <th>25%</th>\n",
       "      <td>3041.500000</td>\n",
       "      <td>1.225554e+06</td>\n",
       "    </tr>\n",
       "    <tr>\n",
       "      <th>50%</th>\n",
       "      <td>23669.000000</td>\n",
       "      <td>2.182528e+07</td>\n",
       "    </tr>\n",
       "    <tr>\n",
       "      <th>75%</th>\n",
       "      <td>107681.500000</td>\n",
       "      <td>6.632693e+07</td>\n",
       "    </tr>\n",
       "    <tr>\n",
       "      <th>max</th>\n",
       "      <td>264641.500000</td>\n",
       "      <td>2.029291e+11</td>\n",
       "    </tr>\n",
       "  </tbody>\n",
       "</table>\n",
       "</div>"
      ],
      "text/plain": [
       "       avarage_throughput_kbps  tcp_retrans_bytes\n",
       "count              1363.000000       1.363000e+03\n",
       "mean              74362.737344       1.603788e+09\n",
       "std               96691.728868       1.142009e+10\n",
       "min                   0.000000       3.600000e+02\n",
       "25%                3041.500000       1.225554e+06\n",
       "50%               23669.000000       2.182528e+07\n",
       "75%              107681.500000       6.632693e+07\n",
       "max              264641.500000       2.029291e+11"
      ]
     },
     "execution_count": 67,
     "metadata": {},
     "output_type": "execute_result"
    }
   ],
   "source": [
    "plotter.plot_hist(cleaned_aggregate_throughput_per_handset, 'avarage_throughput_kbps', 'green')\n",
    "cleaned_aggregate_throughput_per_handset.describe()"
   ]
  },
  {
   "cell_type": "code",
   "execution_count": 68,
   "id": "5c5b512c",
   "metadata": {},
   "outputs": [
    {
     "data": {
      "image/png": "[encoded data removed]",
      "text/plain": [
       "<Figure size 864x504 with 1 Axes>"
      ]
     },
     "metadata": {
      "needs_background": "light"
     },
     "output_type": "display_data"
    }
   ],
   "source": [
    "# The box plots above show that both avarage_throughput_kbps and tcp_retrans_bytes both involve outliers which need to be handelled\n",
    "cleaned_aggregate_throughput_per_handset = assistant.handle_outliers(aggregate_throughput_per_handset, 'tcp_retrans_bytes')\n",
    "\n",
    "plotter.plot_box(cleaned_aggregate_throughput_per_handset, 'tcp_retrans_bytes', 'After outlier detection and correction for TCP')"
   ]
  },
  {
   "cell_type": "code",
   "execution_count": 70,
   "id": "e7707dfc",
   "metadata": {},
   "outputs": [
    {
     "data": {
      "text/plain": [
       "<Figure size 648x504 with 0 Axes>"
      ]
     },
     "metadata": {},
     "output_type": "display_data"
    },
    {
     "data": {
      "image/png": "[encoded data removed]",
      "text/plain": [
       "<Figure size 1008x504 with 1 Axes>"
      ]
     },
     "metadata": {
      "needs_background": "light"
     },
     "output_type": "display_data"
    },
    {
     "data": {
      "text/html": [
       "<div>\n",
       "<style scoped>\n",
       "    .dataframe tbody tr th:only-of-type {\n",
       "        vertical-align: middle;\n",
       "    }\n",
       "\n",
       "    .dataframe tbody tr th {\n",
       "        vertical-align: top;\n",
       "    }\n",
       "\n",
       "    .dataframe thead th {\n",
       "        text-align: right;\n",
       "    }\n",
       "</style>\n",
       "<table border=\"1\" class=\"dataframe\">\n",
       "  <thead>\n",
       "    <tr style=\"text-align: right;\">\n",
       "      <th></th>\n",
       "      <th>avarage_throughput_kbps</th>\n",
       "      <th>tcp_retrans_bytes</th>\n",
       "    </tr>\n",
       "  </thead>\n",
       "  <tbody>\n",
       "    <tr>\n",
       "      <th>count</th>\n",
       "      <td>1.363000e+03</td>\n",
       "      <td>1.363000e+03</td>\n",
       "    </tr>\n",
       "    <tr>\n",
       "      <th>mean</th>\n",
       "      <td>1.638934e+06</td>\n",
       "      <td>4.701542e+07</td>\n",
       "    </tr>\n",
       "    <tr>\n",
       "      <th>std</th>\n",
       "      <td>2.336493e+07</td>\n",
       "      <td>5.925214e+07</td>\n",
       "    </tr>\n",
       "    <tr>\n",
       "      <th>min</th>\n",
       "      <td>0.000000e+00</td>\n",
       "      <td>3.600000e+02</td>\n",
       "    </tr>\n",
       "    <tr>\n",
       "      <th>25%</th>\n",
       "      <td>3.041500e+03</td>\n",
       "      <td>1.225554e+06</td>\n",
       "    </tr>\n",
       "    <tr>\n",
       "      <th>50%</th>\n",
       "      <td>2.366900e+04</td>\n",
       "      <td>2.182528e+07</td>\n",
       "    </tr>\n",
       "    <tr>\n",
       "      <th>75%</th>\n",
       "      <td>1.076815e+05</td>\n",
       "      <td>6.632693e+07</td>\n",
       "    </tr>\n",
       "    <tr>\n",
       "      <th>max</th>\n",
       "      <td>8.324429e+08</td>\n",
       "      <td>1.639790e+08</td>\n",
       "    </tr>\n",
       "  </tbody>\n",
       "</table>\n",
       "</div>"
      ],
      "text/plain": [
       "       avarage_throughput_kbps  tcp_retrans_bytes\n",
       "count             1.363000e+03       1.363000e+03\n",
       "mean              1.638934e+06       4.701542e+07\n",
       "std               2.336493e+07       5.925214e+07\n",
       "min               0.000000e+00       3.600000e+02\n",
       "25%               3.041500e+03       1.225554e+06\n",
       "50%               2.366900e+04       2.182528e+07\n",
       "75%               1.076815e+05       6.632693e+07\n",
       "max               8.324429e+08       1.639790e+08"
      ]
     },
     "execution_count": 70,
     "metadata": {},
     "output_type": "execute_result"
    }
   ],
   "source": [
    "plotter.plot_hist(cleaned_aggregate_throughput_per_handset, 'tcp_retrans_bytes', 'red')\n",
    "cleaned_aggregate_throughput_per_handset.describe()"
   ]
  },
  {
   "cell_type": "markdown",
   "id": "ac1f6cee",
   "metadata": {},
   "source": [
    "##### Using the experience metrics above, perform a k-means clustering (where k = 3) to segment users into groups of experiences and provide a brief description of each cluster. (The description must define each group based on your understanding of the data)"
   ]
  },
  {
   "cell_type": "code",
   "execution_count": 72,
   "id": "113f45bb",
   "metadata": {},
   "outputs": [],
   "source": [
    "# Normalization\n",
    "experience_metrics_per_user = user_experience_metrics_df[['average_rtt_ms','avarage_throughput_kbps','tcp_retrans_bytes']]"
   ]
  },
  {
   "cell_type": "code",
   "execution_count": 73,
   "id": "d6c3fd57",
   "metadata": {},
   "outputs": [
    {
     "data": {
      "text/html": [
       "<div>\n",
       "<style scoped>\n",
       "    .dataframe tbody tr th:only-of-type {\n",
       "        vertical-align: middle;\n",
       "    }\n",
       "\n",
       "    .dataframe tbody tr th {\n",
       "        vertical-align: top;\n",
       "    }\n",
       "\n",
       "    .dataframe thead th {\n",
       "        text-align: right;\n",
       "    }\n",
       "</style>\n",
       "<table border=\"1\" class=\"dataframe\">\n",
       "  <thead>\n",
       "    <tr style=\"text-align: right;\">\n",
       "      <th></th>\n",
       "      <th>average_rtt_ms</th>\n",
       "      <th>avarage_throughput_kbps</th>\n",
       "      <th>tcp_retrans_bytes</th>\n",
       "    </tr>\n",
       "  </thead>\n",
       "  <tbody>\n",
       "    <tr>\n",
       "      <th>0</th>\n",
       "      <td>0.189516</td>\n",
       "      <td>0.001183</td>\n",
       "      <td>0.418102</td>\n",
       "    </tr>\n",
       "    <tr>\n",
       "      <th>1</th>\n",
       "      <td>0.282258</td>\n",
       "      <td>0.000742</td>\n",
       "      <td>0.418102</td>\n",
       "    </tr>\n",
       "    <tr>\n",
       "      <th>2</th>\n",
       "      <td>0.498361</td>\n",
       "      <td>0.000265</td>\n",
       "      <td>0.418102</td>\n",
       "    </tr>\n",
       "    <tr>\n",
       "      <th>3</th>\n",
       "      <td>0.498361</td>\n",
       "      <td>0.001554</td>\n",
       "      <td>0.418102</td>\n",
       "    </tr>\n",
       "    <tr>\n",
       "      <th>4</th>\n",
       "      <td>0.498361</td>\n",
       "      <td>0.000265</td>\n",
       "      <td>0.418102</td>\n",
       "    </tr>\n",
       "  </tbody>\n",
       "</table>\n",
       "</div>"
      ],
      "text/plain": [
       "   average_rtt_ms  avarage_throughput_kbps  tcp_retrans_bytes\n",
       "0        0.189516                 0.001183           0.418102\n",
       "1        0.282258                 0.000742           0.418102\n",
       "2        0.498361                 0.000265           0.418102\n",
       "3        0.498361                 0.001554           0.418102\n",
       "4        0.498361                 0.000265           0.418102"
      ]
     },
     "execution_count": 73,
     "metadata": {},
     "output_type": "execute_result"
    }
   ],
   "source": [
    "experience_metrics_per_user_clean = experience_metrics_per_user.copy()\n",
    "\n",
    "# Handle Outliers\n",
    "experience_metrics_per_user_clean = assistant.handle_outliers_with_mode(experience_metrics_per_user_clean,'average_rtt_ms','mean')\n",
    "experience_metrics_per_user_clean = assistant.handle_outliers_with_mode(experience_metrics_per_user_clean, 'avarage_throughput_kbps', 'mode')\n",
    "experience_metrics_per_user_clean = assistant.handle_outliers_with_mode(experience_metrics_per_user_clean, 'tcp_retrans_bytes', 'mean')\n",
    "\n",
    "normalized_experience_metrics = assistant.scaler(experience_metrics_per_user_clean, ['average_rtt_ms','avarage_throughput_kbps','tcp_retrans_bytes'])\n",
    "normalized_experience_metrics.head()"
   ]
  },
  {
   "cell_type": "code",
   "execution_count": 74,
   "id": "1187920a",
   "metadata": {},
   "outputs": [
    {
     "data": {
      "text/html": [
       "<div>\n",
       "<style scoped>\n",
       "    .dataframe tbody tr th:only-of-type {\n",
       "        vertical-align: middle;\n",
       "    }\n",
       "\n",
       "    .dataframe tbody tr th {\n",
       "        vertical-align: top;\n",
       "    }\n",
       "\n",
       "    .dataframe thead th {\n",
       "        text-align: right;\n",
       "    }\n",
       "</style>\n",
       "<table border=\"1\" class=\"dataframe\">\n",
       "  <thead>\n",
       "    <tr style=\"text-align: right;\">\n",
       "      <th></th>\n",
       "      <th>average_rtt_ms</th>\n",
       "      <th>avarage_throughput_kbps</th>\n",
       "      <th>tcp_retrans_bytes</th>\n",
       "    </tr>\n",
       "  </thead>\n",
       "  <tbody>\n",
       "    <tr>\n",
       "      <th>count</th>\n",
       "      <td>146891.000000</td>\n",
       "      <td>146891.000000</td>\n",
       "      <td>146891.000000</td>\n",
       "    </tr>\n",
       "    <tr>\n",
       "      <th>mean</th>\n",
       "      <td>0.319738</td>\n",
       "      <td>0.140308</td>\n",
       "      <td>0.281290</td>\n",
       "    </tr>\n",
       "    <tr>\n",
       "      <th>std</th>\n",
       "      <td>0.184000</td>\n",
       "      <td>0.256760</td>\n",
       "      <td>0.191500</td>\n",
       "    </tr>\n",
       "    <tr>\n",
       "      <th>min</th>\n",
       "      <td>0.000000</td>\n",
       "      <td>0.000000</td>\n",
       "      <td>0.000000</td>\n",
       "    </tr>\n",
       "    <tr>\n",
       "      <th>25%</th>\n",
       "      <td>0.161290</td>\n",
       "      <td>0.001360</td>\n",
       "      <td>0.029137</td>\n",
       "    </tr>\n",
       "    <tr>\n",
       "      <th>50%</th>\n",
       "      <td>0.266129</td>\n",
       "      <td>0.001925</td>\n",
       "      <td>0.418102</td>\n",
       "    </tr>\n",
       "    <tr>\n",
       "      <th>75%</th>\n",
       "      <td>0.498361</td>\n",
       "      <td>0.154448</td>\n",
       "      <td>0.418102</td>\n",
       "    </tr>\n",
       "    <tr>\n",
       "      <th>max</th>\n",
       "      <td>1.000000</td>\n",
       "      <td>1.000000</td>\n",
       "      <td>1.000000</td>\n",
       "    </tr>\n",
       "  </tbody>\n",
       "</table>\n",
       "</div>"
      ],
      "text/plain": [
       "       average_rtt_ms  avarage_throughput_kbps  tcp_retrans_bytes\n",
       "count   146891.000000            146891.000000      146891.000000\n",
       "mean         0.319738                 0.140308           0.281290\n",
       "std          0.184000                 0.256760           0.191500\n",
       "min          0.000000                 0.000000           0.000000\n",
       "25%          0.161290                 0.001360           0.029137\n",
       "50%          0.266129                 0.001925           0.418102\n",
       "75%          0.498361                 0.154448           0.418102\n",
       "max          1.000000                 1.000000           1.000000"
      ]
     },
     "execution_count": 74,
     "metadata": {},
     "output_type": "execute_result"
    }
   ],
   "source": [
    "# Statistical description of the normaliezed experience dataframe\n",
    "normalized_experience_metrics.describe()"
   ]
  },
  {
   "cell_type": "code",
   "execution_count": null,
   "id": "5126bfc0",
   "metadata": {},
   "outputs": [],
   "source": []
  }
 ],
 "metadata": {
  "kernelspec": {
   "display_name": "Python 3 (ipykernel)",
   "language": "python",
   "name": "python3"
  },
  "language_info": {
   "codemirror_mode": {
    "name": "ipython",
    "version": 3
   },
   "file_extension": ".py",
   "mimetype": "text/x-python",
   "name": "python",
   "nbconvert_exporter": "python",
   "pygments_lexer": "ipython3",
   "version": "3.9.12"
  }
 },
 "nbformat": 4,
 "nbformat_minor": 5
}
